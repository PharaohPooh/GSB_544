{
  "cells": [
    {
      "cell_type": "raw",
      "metadata": {
        "id": "Wm7rfPnRrrqm"
      },
      "source": [
        "---\n",
        "title: 'Practice Activity: Basic Syntax'\n",
        "output: html\n",
        "---"
      ]
    },
    {
      "cell_type": "markdown",
      "metadata": {
        "id": "0mbR_4URrrqo"
      },
      "source": [
        "## Overview\n",
        "\n",
        "In this PA, you will will be creating and manipulating basic objects to uncover a top secret message.\n",
        "\n",
        "### Hint 1\n",
        "\n",
        "As you work through this PA, you will encounter some code that does not work as you want it to.  Don't despair!  Errors (when R is unable to run your code) and bugs (when the code doesn't do what you hoped) are a natural part of coding.  Even the best of the best deal with these problems regularly - learning to track down the issue is a skill that you can learn and practice.\n",
        "\n",
        "Google is your friend!  If an error is confusing, copy it into Google and see what other people are saying.  If you don't know how to do something, search for it.\n",
        "\n",
        "### Hint 2\n",
        "\n",
        "Just because there is no error message doesn't mean everything went smoothly.  You should be regularly printing out your objects, to see they contain the information and format that you expect.\n",
        "\n",
        "For example, if you have an object named `my_thing`, you might first want to simply look at the object by typing its name.\n",
        "\n",
        "However, you might also want to make sure it is the right **object type** and/or the right **object structure**.\n"
      ]
    },
    {
      "cell_type": "code",
      "execution_count": 6,
      "metadata": {
        "colab": {
          "base_uri": "https://localhost:8080/"
        },
        "id": "D5pSzgxjrrqq",
        "outputId": "eb55a6ea-6f0e-4906-f283-3838cb04e048"
      },
      "outputs": [
        {
          "data": {
            "text/plain": [
              "11"
            ]
          },
          "execution_count": null,
          "metadata": {},
          "output_type": "execute_result"
        }
      ],
      "source": [
        "import numpy as np\n",
        "\n",
        "\n",
        "my_thing = \"Frustration\"\n",
        "\n",
        "type(my_thing)\n",
        "len(my_thing)"
      ]
    },
    {
      "cell_type": "markdown",
      "metadata": {
        "id": "QpUJsmq0rrqr"
      },
      "source": [
        "## Part One: Setup\n",
        "\n",
        "Each of the following code chunks will cause an error and/or do the desired task incorrectly.  Find the mistake, and correct it to complete the intended action.\n",
        "\n",
        "\n",
        "\n",
        "\n",
        "1. Create lists containing the upper case letters, lower case letters, and some punctuation marks.\n"
      ]
    },
    {
      "cell_type": "code",
      "execution_count": 7,
      "metadata": {
        "id": "tk5bezBJrrqs"
      },
      "outputs": [],
      "source": [
        "lower_case = [\"a\", \"b\", \"c\", \"d\", \"e\", \"f\", \"g\", \"h\", \"i\", \"j\", \"k\", \"l\", \"m\", \"n\", \"o\", \"p\", \"q\", \"r\", \"s\", \"t\", \"u\", \"v\", \"w\", \"x\", \"y\", \"z\"]\n",
        "\n",
        "upper_case = [\"A\", \"B\", \"C\", \"D\", \"E\", \"F\", \"G\", \"H\" \"I\", \"J\", \"K\", \"L\", \"M\", \"N\", \"O\", \"P\", \"Q\", \"R\", \"S\", \"T\", \"U\", \"V\", \"W\", \"X\", \"Y\", \"Z\"]\n",
        "\n",
        "punctuation = [\".\", \",\", \"!\", \"?\", \"'\", \"\\\"\", \"(\", \")\", \" \", \"-\", \";\", \":\"]"
      ]
    },
    {
      "cell_type": "markdown",
      "metadata": {
        "id": "ZejwK6urrrqs"
      },
      "source": [
        "2. Make one long list containing all the symbols.  Find the length of this list.\n"
      ]
    },
    {
      "cell_type": "code",
      "execution_count": 8,
      "metadata": {
        "colab": {
          "base_uri": "https://localhost:8080/"
        },
        "id": "l8ZVLLXWrrqs",
        "outputId": "b33d7234-051c-449e-d1c4-52b071ea085b"
      },
      "outputs": [
        {
          "data": {
            "text/plain": [
              "3"
            ]
          },
          "execution_count": null,
          "metadata": {},
          "output_type": "execute_result"
        }
      ],
      "source": [
        "all_symbols = [lower_case, upper_case, punctuation]\n",
        "\n",
        "len(all_symbols)"
      ]
    },
    {
      "cell_type": "markdown",
      "metadata": {
        "id": "HvgV76Dbrrqt"
      },
      "source": [
        "3. Repeat the previous steps, but instead of using *list* type objects, use **numpy arrays**.  Don't forget to **import** the numpy library!\n"
      ]
    },
    {
      "cell_type": "code",
      "execution_count": 32,
      "metadata": {
        "id": "x9YyIMP6rrqt"
      },
      "outputs": [],
      "source": [
        "lower_case = np.array([\"a\", \"b\", \"c\", \"d\", \"e\", \"f\", \"g\", \"h\", \"i\", \"j\", \"k\", \"l\", \"m\", \"n\", \"o\", \"p\", \"q\", \"r\", \"s\", \"t\", \"u\", \"v\", \"w\", \"x\", \"y\", \"z\"])\n",
        "\n",
        "upper_case = np.array([\"A\", \"B\", \"C\", \"D\", \"E\", \"F\", \"G\", \"H\", \"I\", \"J\", \"K\", \"L\", \"M\", \"N\", \"O\", \"P\", \"Q\", \"R\", \"S\", \"T\", \"U\", \"V\", \"W\", \"X\", \"Y\", \"Z\"])\n",
        "\n",
        "punctuation = np.array([\".\", \",\", \"!\", \"?\", \"'\", \"\\\"\", \"(\", \")\", \" \", \"-\", \";\", \":\"])\n",
        "\n",
        "## Use np.concatenate to combine into long array\n",
        "all_symbols = np.concatenate([lower_case, upper_case, punctuation])"
      ]
    },
    {
      "cell_type": "markdown",
      "metadata": {
        "id": "rpbAtPlXrrqt"
      },
      "source": [
        "4. Make a **pandas data frame**, with one column called \"Symbol\" containing the `all_symbols` array.\n"
      ]
    },
    {
      "cell_type": "code",
      "execution_count": 10,
      "metadata": {
        "colab": {
          "base_uri": "https://localhost:8080/",
          "height": 206
        },
        "id": "K103ZvNVrrqu",
        "outputId": "d0f30a4f-74ae-4233-97c7-b87628fee9e0"
      },
      "outputs": [
        {
          "data": {
            "text/html": [
              "<div>\n",
              "<style scoped>\n",
              "    .dataframe tbody tr th:only-of-type {\n",
              "        vertical-align: middle;\n",
              "    }\n",
              "\n",
              "    .dataframe tbody tr th {\n",
              "        vertical-align: top;\n",
              "    }\n",
              "\n",
              "    .dataframe thead th {\n",
              "        text-align: right;\n",
              "    }\n",
              "</style>\n",
              "<table border=\"1\" class=\"dataframe\">\n",
              "  <thead>\n",
              "    <tr style=\"text-align: right;\">\n",
              "      <th></th>\n",
              "      <th>Symbol</th>\n",
              "    </tr>\n",
              "  </thead>\n",
              "  <tbody>\n",
              "    <tr>\n",
              "      <th>0</th>\n",
              "      <td>a</td>\n",
              "    </tr>\n",
              "    <tr>\n",
              "      <th>1</th>\n",
              "      <td>b</td>\n",
              "    </tr>\n",
              "    <tr>\n",
              "      <th>2</th>\n",
              "      <td>c</td>\n",
              "    </tr>\n",
              "    <tr>\n",
              "      <th>3</th>\n",
              "      <td>d</td>\n",
              "    </tr>\n",
              "    <tr>\n",
              "      <th>4</th>\n",
              "      <td>e</td>\n",
              "    </tr>\n",
              "  </tbody>\n",
              "</table>\n",
              "</div>"
            ],
            "text/plain": [
              "  Symbol\n",
              "0      a\n",
              "1      b\n",
              "2      c\n",
              "3      d\n",
              "4      e"
            ]
          },
          "metadata": {},
          "output_type": "display_data"
        }
      ],
      "source": [
        "import pandas as pd\n",
        "\n",
        "symbols_df = pd.DataFrame(all_symbols, columns=['Symbol'])\n",
        "\n",
        "display(symbols_df.head())"
      ]
    },
    {
      "cell_type": "markdown",
      "metadata": {
        "id": "L-m2LLyHrrqu"
      },
      "source": [
        "## Part Two: Decoding the secret message.\n"
      ]
    },
    {
      "cell_type": "code",
      "execution_count": 23,
      "metadata": {
        "id": "iP7Zj5hPrrqu"
      },
      "outputs": [],
      "source": [
        "top_secret = pd.read_csv(\"https://www.dropbox.com/s/k72h1zewk4gtqep/PA_Secret_Code?dl=1\", header=None)\n",
        "\n",
        "top_secret = top_secret[0].to_numpy()"
      ]
    },
    {
      "cell_type": "markdown",
      "metadata": {
        "id": "T3ui38Z9rrqu"
      },
      "source": [
        "### Hint\n",
        "\n",
        "Recall that basic math operations are **vectorized**.  This means you don't have to repeat the process for each item in a list; you can apply the math to the whole thing at once.\n",
        "\n",
        "### Instructions\n",
        "\n",
        "By altering this top secret set of numbers, you will be able to create a message.  Write your own code to complete the steps below.\n",
        "\n",
        "1. Add 14 to every number.\n",
        "2. Multiply every number by 18, then subtract 257.\n",
        "3. Exponentiate every number.  (That is, do e^[number].  You may have to Google how to do this!)\n",
        "4. Square every number.\n",
        "\n",
        "**Checkpoint:** Headquarters has informed you that at this stage of decoding, there should be 352 numbers in the secret message that are below 17.  Write code to check if this is true for your data.\n",
        "\n",
        "\n",
        "5. Turn your one-dimensional array of numbers into a two-dimensional array (matrix) with 5 columns. This conversion should be **column-wise**; that is, the first several elements of the array should all end up in the first **column** of your matrix.\n",
        "6. Separately from your top secret numbers, create an array of all the even numbers between 1 and 382. Name it \"evens\". That is, \"evens\" should contain 2, 4, 6, 8 ..., 382.\n",
        "7. Subtract the \"evens\" vector from the first column of your secret message matrix.\n",
        "8. Subtract 100 from all numbers in the 18-24th rows of the 3rd column.\n",
        "9. Multiply all numbers in the 4th and 5th column by 2.\n",
        "10. Turn your matrix back into a one dimensional array. Again this should be **column-wise**, so that the first column of the matrix becomes the first elements of the array.\n",
        "\n",
        "\n",
        "**Checkpoint:** Headquarters has informed you that at this stage of decoding, all numbers in indices 500 and beyond are below 100.  Write code to check if your numbers fulfill this requirement.\n",
        "\n",
        "11. Take the square root of all numbers in indices 37 to 464.\n",
        "12. Round all numbers to the nearest whole number.\n",
        "13. Replace all instances of the number 39 with 20.\n",
        "\n",
        "**Checkpoint:** Headquarters has informed you that your final message should have 344 even numbers.  Write code to check if your numbers fulfill this requirement.\n",
        "\n",
        "## Part 3: The secret message!\n",
        "\n",
        "Run the following to discover the final message!  Google the first line of this message, if you do not recognize it, to see what it is.\n"
      ]
    },
    {
      "cell_type": "code",
      "execution_count": 24,
      "metadata": {
        "id": "2nl8ynDwpG3s"
      },
      "outputs": [],
      "source": [
        "#1\n",
        "top_secret = top_secret + 14\n",
        "\n",
        "#2\n",
        "top_secret = (top_secret * 18) - 257\n",
        "\n",
        "#3\n",
        "top_secret = np.exp(top_secret)\n",
        "\n",
        "#4\n",
        "top_secret = top_secret**2\n",
        "\n"
      ]
    },
    {
      "cell_type": "code",
      "execution_count": 25,
      "metadata": {
        "colab": {
          "base_uri": "https://localhost:8080/"
        },
        "id": "m8ZFbj8DqCX8",
        "outputId": "664665ff-594c-473f-c875-92687f173023"
      },
      "outputs": [
        {
          "name": "stdout",
          "output_type": "stream",
          "text": [
            "352\n",
            "Checkpoint passed\n"
          ]
        }
      ],
      "source": [
        "#Checkpoint: Headquarters has informed you that at this stage of decoding, there should be 352 numbers in the secret message that are below 17. Write code to check if this is true for your data.\n",
        "count_below_17 = np.sum(top_secret < 17)\n",
        "print (count_below_17)\n",
        "if count_below_17 == 352:\n",
        "    print(\"Checkpoint passed\")\n",
        "else:\n",
        "    print(\"Checkpoint failed\")"
      ]
    },
    {
      "cell_type": "code",
      "execution_count": 26,
      "metadata": {
        "id": "giEhtubajdDu"
      },
      "outputs": [
        {
          "name": "stdout",
          "output_type": "stream",
          "text": [
            "[[5.900e+01 1.440e+02 3.610e+02 9.000e+00 2.050e+01]\n",
            " [5.000e+01 1.000e+00 1.521e+03 7.500e+00 3.050e+01]\n",
            " [2.900e+01 5.290e+02 2.250e+02 1.050e+01 3.000e+00]\n",
            " [9.000e+00 3.610e+02 2.250e+02 3.500e+00 9.000e+00]\n",
            " [2.900e+01 3.721e+03 1.600e+01 4.000e+00 5.000e-01]\n",
            " [7.300e+01 1.521e+03 3.721e+03 3.050e+01 1.000e+00]\n",
            " [1.600e+01 6.400e+01 1.000e+00 5.000e-01 5.000e+00]\n",
            " [3.400e+01 1.000e+00 5.290e+02 7.000e+00 7.500e+00]\n",
            " [2.700e+01 1.521e+03 6.400e+01 2.000e+00 1.050e+01]\n",
            " [3.200e+01 3.721e+03 8.100e+01 3.050e+01 9.500e+00]\n",
            " [3.400e+01 9.000e+00 1.440e+02 1.950e+01 3.050e+01]\n",
            " [3.300e+01 1.000e+00 2.500e+01 4.000e+00 2.000e+00]\n",
            " [3.300e+01 1.521e+03 3.721e+03 9.000e+00 5.000e-01]\n",
            " [8.200e+01 9.000e+00 8.100e+01 7.500e+00 1.250e+01]\n",
            " [9.100e+01 6.400e+01 1.960e+02 1.050e+01 2.750e+01]\n",
            " [3.300e+01 3.025e+03 3.721e+03 3.500e+00 3.050e+01]\n",
            " [4.800e+01 3.721e+03 1.521e+03 4.000e+00 1.450e+01]\n",
            " [4.000e+01 7.840e+02 1.640e+02 3.050e+01 5.000e-01]\n",
            " [9.900e+01 2.500e+01 3.250e+02 3.050e+01 6.000e+00]\n",
            " [7.900e+01 5.290e+02 5.410e+02 3.050e+01 6.000e+00]\n",
            " [5.000e+01 1.000e+00 1.490e+02 2.300e+01 7.500e+00]\n",
            " [4.900e+01 3.240e+02 1.640e+02 4.000e+00 7.500e+00]\n",
            " [1.070e+02 2.500e+01 1.621e+03 2.500e+00 4.000e+00]\n",
            " [6.700e+01 3.721e+03 2.909e+03 3.050e+01 2.750e+01]\n",
            " [6.200e+01 1.521e+03 3.721e+03 1.100e+01 3.050e+01]\n",
            " [6.100e+01 6.400e+01 7.290e+02 7.500e+00 1.450e+01]\n",
            " [9.300e+01 2.500e+01 1.960e+02 9.000e+00 5.000e-01]\n",
            " [6.400e+01 3.721e+03 1.600e+01 8.000e+00 6.000e+00]\n",
            " [8.300e+01 1.296e+03 2.916e+03 5.000e-01 6.000e+00]\n",
            " [1.210e+02 4.410e+02 3.721e+03 6.000e+00 5.000e-01]\n",
            " [1.010e+02 4.000e+00 1.000e+00 3.050e+01 1.250e+01]\n",
            " [7.900e+01 1.000e+02 3.610e+02 1.000e+00 2.750e+01]\n",
            " [8.800e+01 4.410e+02 3.721e+03 6.000e+00 2.900e+01]\n",
            " [7.300e+01 4.000e+00 8.100e+01 5.000e-01 3.050e+01]\n",
            " [8.900e+01 3.721e+03 1.960e+02 2.000e+00 3.050e+01]\n",
            " [1.330e+02 4.000e+00 3.721e+03 2.500e+00 3.050e+01]\n",
            " [1.350e+02 8.100e+01 4.410e+02 3.050e+01 1.700e+01]\n",
            " [3.797e+03 3.240e+02 3.600e+01 1.150e+01 2.500e+00]\n",
            " [9.780e+02 1.600e+01 3.600e+01 2.500e+00 3.050e+01]\n",
            " [1.610e+02 2.916e+03 8.100e+01 7.000e+00 1.500e+00]\n",
            " [9.800e+01 3.721e+03 3.610e+02 1.950e+01 4.000e+00]\n",
            " [3.805e+03 1.000e+00 6.400e+01 3.050e+01 7.500e+00]\n",
            " [1.350e+02 1.960e+02 3.721e+03 9.500e+00 9.000e+00]\n",
            " [7.130e+02 1.600e+01 1.521e+03 7.000e+00 1.950e+01]\n",
            " [4.140e+02 3.721e+03 6.400e+01 4.500e+00 6.000e+00]\n",
            " [1.170e+02 3.610e+02 2.250e+02 1.500e+00 2.500e+00]\n",
            " [3.815e+03 6.400e+01 4.410e+02 5.500e+00 2.000e+00]\n",
            " [9.700e+01 4.410e+02 4.900e+01 2.500e+00 3.050e+01]\n",
            " [2.940e+02 1.960e+02 6.400e+01 9.000e+00 4.500e+00]\n",
            " [1.160e+02 3.721e+03 1.521e+03 3.100e+01 7.000e+00]\n",
            " [3.823e+03 3.721e+03 3.721e+03 9.500e+00 3.050e+01]\n",
            " [1.530e+02 3.721e+03 6.400e+01 7.000e+00 4.000e+00]\n",
            " [1.870e+02 2.116e+03 2.500e+01 5.000e-01 4.500e+00]\n",
            " [2.770e+02 6.400e+01 3.721e+03 1.500e+00 9.500e+00]\n",
            " [1.140e+02 2.500e+01 3.610e+02 5.500e+00 3.050e+01]\n",
            " [2.560e+02 3.721e+03 1.521e+03 2.750e+01 5.000e+00]\n",
            " [1.390e+02 3.600e+01 2.250e+02 3.050e+01 7.500e+00]\n",
            " [3.837e+03 3.240e+02 2.250e+02 1.700e+01 1.250e+01]\n",
            " [1.990e+02 4.410e+02 1.600e+01 2.500e+00 2.650e+01]\n",
            " [3.160e+02 1.690e+02 2.916e+03 3.050e+01 3.050e+01]\n",
            " [3.843e+03 8.100e+01 3.721e+03 6.000e+00 2.850e+01]\n",
            " [1.645e+03 2.250e+02 3.721e+03 2.500e+00 2.300e+01]\n",
            " [1.900e+02 4.410e+02 3.721e+03 3.000e+00 1.150e+01]\n",
            " [1.530e+02 3.610e+02 2.116e+03 1.950e+01 5.000e-01]\n",
            " [3.851e+03 3.721e+03 6.400e+01 3.050e+01 9.500e+00]\n",
            " [6.610e+02 7.840e+02 2.500e+01 4.500e+00 3.050e+01]\n",
            " [1.350e+02 1.000e+00 3.721e+03 1.950e+01 1.000e+00]\n",
            " [1.400e+02 1.960e+02 1.296e+03 3.050e+01 9.000e+00]\n",
            " [1.630e+02 1.600e+01 1.000e+00 2.000e+00 4.500e+00]\n",
            " [4.236e+03 2.500e+01 4.000e+00 2.500e+00 6.000e+00]\n",
            " [3.863e+03 3.240e+02 4.000e+00 5.000e-01 6.000e+00]\n",
            " [8.730e+02 3.610e+02 2.500e+01 2.000e+00 4.500e+00]\n",
            " [2.900e+02 1.960e+02 3.240e+02 2.700e+01 3.500e+00]\n",
            " [2.920e+02 1.000e+00 5.290e+02 3.050e+01 2.700e+01]\n",
            " [3.871e+03 1.521e+03 2.250e+02 5.000e-01 3.050e+01]\n",
            " [3.210e+02 9.000e+00 9.000e+00 7.000e+00 5.000e-01]\n",
            " [2.350e+02 6.400e+01 1.210e+02 2.000e+00 7.000e+00]\n",
            " [3.250e+02 3.025e+03 2.916e+03 3.050e+01 2.000e+00]\n",
            " [5.190e+02 3.364e+03 3.721e+03 1.150e+01 3.050e+01]\n",
            " [7.850e+02 3.721e+03 5.290e+02 4.500e+00 1.950e+01]\n",
            " [3.883e+03 1.156e+03 8.100e+01 1.950e+01 4.000e+00]\n",
            " [6.930e+02 2.500e+01 1.521e+03 4.000e+00 2.500e+00]\n",
            " [1.910e+02 3.721e+03 6.400e+01 3.050e+01 3.050e+01]\n",
            " [4.920e+02 1.521e+03 6.100e+01 4.500e+00 9.500e+00]\n",
            " [1.950e+02 2.250e+02 5.000e+00 1.950e+01 6.000e+00]\n",
            " [3.893e+03 2.250e+02 2.500e+01 9.500e+00 4.500e+00]\n",
            " [1.695e+03 1.210e+02 5.000e+00 3.050e+01 1.950e+01]\n",
            " [2.400e+02 3.721e+03 1.900e+01 4.000e+00 4.000e+00]\n",
            " [2.030e+02 6.400e+01 6.100e+01 2.500e+00 1.250e+01]\n",
            " [3.901e+03 8.100e+01 1.500e+01 5.000e-01 3.050e+01]\n",
            " [1.860e+02 3.610e+02 6.000e+00 2.000e+00 1.950e+01]\n",
            " [4.090e+02 3.721e+03 6.100e+01 3.050e+01 7.500e+00]\n",
            " [5.100e+02 4.840e+02 6.000e+00 3.050e+01 1.100e+01]\n",
            " [4.130e+02 2.250e+02 1.200e+01 3.050e+01 2.500e+00]\n",
            " [2.390e+02 3.240e+02 1.000e+00 1.700e+01 9.500e+00]\n",
            " [4.170e+02 2.560e+02 1.300e+01 2.500e+00 3.050e+01]\n",
            " [6.780e+02 1.000e+00 5.000e+00 3.050e+01 3.050e+01]\n",
            " [2.210e+02 1.440e+02 5.400e+01 1.150e+01 3.050e+01]\n",
            " [5.590e+02 3.721e+03 6.100e+01 2.500e+00 1.500e+01]\n",
            " [3.116e+03 3.610e+02 2.900e+01 7.000e+00 4.500e+00]\n",
            " [3.923e+03 5.290e+02 1.000e+00 1.950e+01 2.000e+00]\n",
            " [3.925e+03 2.250e+02 1.300e+01 3.050e+01 3.050e+01]\n",
            " [3.927e+03 3.240e+02 5.000e+00 3.500e+00 3.500e+00]\n",
            " [9.370e+02 1.600e+01 6.100e+01 5.000e-01 1.250e+01]\n",
            " [4.060e+02 3.721e+03 2.300e+01 6.000e+00 9.000e+00]\n",
            " [2.280e+02 8.100e+01 8.000e+00 1.050e+01 2.500e+00]\n",
            " [3.935e+03 1.960e+02 9.000e+00 6.500e+00 3.050e+01]\n",
            " [1.737e+03 3.721e+03 6.000e+00 8.000e+00 5.000e-01]\n",
            " [2.820e+02 6.400e+01 6.000e+00 4.000e+00 7.000e+00]\n",
            " [2.450e+02 1.000e+00 1.200e+01 4.500e+00 2.000e+00]\n",
            " [3.943e+03 1.960e+02 9.000e+00 7.000e+00 3.050e+01]\n",
            " [3.930e+02 1.600e+01 1.400e+01 3.500e+00 3.500e+00]\n",
            " [4.510e+02 3.969e+03 7.000e+00 3.050e+01 4.500e+00]\n",
            " [3.970e+02 3.721e+03 6.100e+01 1.000e+00 6.500e+00]\n",
            " [2.550e+02 3.721e+03 3.900e+01 5.000e-01 1.000e+00]\n",
            " [3.953e+03 3.721e+03 8.000e+00 1.500e+00 6.000e+00]\n",
            " [5.580e+02 1.444e+03 1.800e+01 5.500e+00 2.500e+00]\n",
            " [2.370e+02 2.250e+02 1.500e+01 2.650e+01 3.050e+01]\n",
            " [1.759e+03 1.960e+02 2.100e+01 3.050e+01 4.500e+00]\n",
            " [3.040e+02 4.900e+01 7.000e+00 2.900e+01 7.000e+00]\n",
            " [6.030e+02 3.721e+03 8.000e+00 1.350e+01 3.050e+01]\n",
            " [3.965e+03 1.521e+03 6.100e+01 7.000e+00 1.950e+01]\n",
            " [4.710e+02 8.100e+01 3.900e+01 2.000e+00 4.000e+00]\n",
            " [6.890e+02 1.690e+02 8.000e+00 3.050e+01 2.500e+00]\n",
            " [1.771e+03 2.500e+01 5.000e+00 4.000e+00 3.050e+01]\n",
            " [3.010e+02 3.721e+03 6.100e+01 5.000e-01 1.150e+01]\n",
            " [5.780e+02 1.521e+03 3.900e+01 9.500e+00 5.000e-01]\n",
            " [2.570e+02 6.400e+01 2.100e+01 1.950e+01 1.000e+00]\n",
            " [2.620e+02 2.500e+01 1.200e+01 3.050e+01 2.500e+00]\n",
            " [2.850e+02 3.721e+03 7.000e+00 1.950e+01 3.200e+01]\n",
            " [3.071e+03 1.690e+02 5.000e+00 4.000e+00 3.050e+01]\n",
            " [3.985e+03 1.000e+00 2.500e+01 7.500e+00 1.350e+01]\n",
            " [3.630e+03 1.960e+02 6.100e+01 1.050e+01 6.000e+00]\n",
            " [1.052e+03 5.760e+02 2.300e+01 3.050e+01 6.000e+00]\n",
            " [2.950e+02 2.250e+02 1.500e+01 9.500e+00 3.050e+01]\n",
            " [8.010e+02 1.690e+02 1.500e+01 6.000e+00 6.500e+00]\n",
            " [2.750e+02 2.500e+01 4.000e+00 5.000e-01 4.500e+00]\n",
            " [6.000e+02 3.721e+03 5.400e+01 4.500e+00 6.500e+00]\n",
            " [3.030e+02 3.600e+01 6.100e+01 7.000e+00 9.500e+00]\n",
            " [4.001e+03 2.250e+02 6.100e+01 3.050e+01 1.250e+01]\n",
            " [1.803e+03 2.500e+01 6.100e+01 1.950e+01 3.050e+01]\n",
            " [3.480e+02 3.721e+03 2.700e+01 4.000e+00 1.150e+01]\n",
            " [3.110e+02 6.400e+01 1.400e+01 2.500e+00 2.500e+00]\n",
            " [4.009e+03 2.500e+01 4.000e+00 3.050e+01 9.000e+00]\n",
            " [1.586e+03 3.721e+03 6.100e+01 1.800e+01 2.500e+00]\n",
            " [2.930e+02 3.610e+02 2.000e+00 5.000e-01 3.050e+01]\n",
            " [2.980e+02 2.250e+02 2.100e+01 1.000e+00 1.950e+01]\n",
            " [3.000e+02 4.410e+02 1.800e+01 1.000e+00 4.000e+00]\n",
            " [3.230e+02 4.900e+01 2.000e+00 2.500e+00 2.500e+00]\n",
            " [6.240e+02 6.400e+01 1.200e+01 9.000e+00 3.050e+01]\n",
            " [8.310e+02 1.521e+03 5.000e+00 1.150e+01 1.000e+00]\n",
            " [5.290e+02 3.844e+03 4.000e+00 7.500e+00 7.500e+00]\n",
            " [3.150e+02 3.721e+03 6.100e+01 1.500e+00 9.000e+00]\n",
            " [4.290e+02 2.025e+03 1.000e+00 5.500e+00 7.500e+00]\n",
            " [3.226e+03 2.250e+02 1.900e+01 2.800e+01 3.500e+00]\n",
            " [4.033e+03 3.721e+03 6.100e+01 3.050e+01 7.500e+00]\n",
            " [4.830e+02 3.240e+02 9.000e+00 3.050e+01 1.100e+01]\n",
            " [9.410e+02 2.500e+01 3.900e+01 3.050e+01 2.500e+00]\n",
            " [4.039e+03 3.610e+02 6.100e+01 1.450e+01 9.500e+00]\n",
            " [6.810e+02 1.521e+03 3.000e+00 7.500e+00 2.700e+01]\n",
            " [5.470e+02 2.500e+01 1.000e+00 6.500e+00 3.050e+01]\n",
            " [5.200e+02 1.600e+01 1.300e+01 2.500e+00 3.050e+01]\n",
            " [3.351e+03 3.721e+03 5.000e+00 3.050e+01 3.050e+01]\n",
            " [4.049e+03 6.400e+01 5.500e+01 1.950e+01 1.350e+01]\n",
            " [4.051e+03 2.500e+01 6.100e+01 7.500e+00 7.000e+00]\n",
            " [4.053e+03 3.721e+03 4.100e+01 3.050e+01 2.000e+00]\n",
            " [2.450e+03 4.000e+00 1.400e+01 6.500e+00 3.050e+01]\n",
            " [4.000e+02 6.250e+02 5.000e+00 1.250e+01 1.950e+01]\n",
            " [3.630e+02 3.721e+03 5.400e+01 3.050e+01 4.000e+00]\n",
            " [4.061e+03 1.521e+03 6.100e+01 5.000e-01 2.500e+00]\n",
            " [4.420e+02 6.400e+01 3.900e+01 9.000e+00 3.050e+01]\n",
            " [3.450e+02 2.500e+01 2.300e+01 6.500e+00 6.500e+00]\n",
            " [8.750e+02 3.721e+03 1.500e+01 9.500e+00 7.500e+00]\n",
            " [7.090e+02 2.116e+03 5.500e+01 2.700e+01 6.500e+00]\n",
            " [4.071e+03 4.410e+02 6.100e+01 3.050e+01 2.500e+00]\n",
            " [1.873e+03 1.690e+02 4.100e+01 6.500e+00 3.050e+01]\n",
            " [4.180e+02 1.521e+03 1.400e+01 1.250e+01 9.000e+00]\n",
            " [3.570e+02 4.410e+02 5.000e+00 3.050e+01 5.000e-01]\n",
            " [1.879e+03 1.690e+02 5.400e+01 1.000e+00 1.950e+01]\n",
            " [4.081e+03 3.721e+03 6.100e+01 2.500e+00 4.000e+00]\n",
            " [3.660e+02 1.521e+03 3.900e+01 5.000e-01 9.500e+00]\n",
            " [4.450e+02 3.240e+02 2.300e+01 6.500e+00 3.050e+01]\n",
            " [1.887e+03 2.500e+01 1.500e+01 4.500e+00 7.500e+00]\n",
            " [3.930e+02 2.500e+01 5.500e+01 9.500e+00 1.050e+01]\n",
            " [3.286e+03 3.721e+03 6.100e+01 4.000e+00 1.950e+01]\n",
            " [4.093e+03 3.721e+03 2.700e+01 3.050e+01 3.500e+00]\n",
            " [1.895e+03 3.721e+03 1.400e+01 1.000e+00 9.000e+00]\n",
            " [4.400e+02 7.290e+02 4.000e+00 7.500e+00 5.000e-01]\n",
            " [4.030e+02 1.960e+02 6.100e+01 1.250e+01 1.000e+00]\n",
            " [4.101e+03 1.600e+01 3.900e+01 2.750e+01 2.500e+00]\n",
            " [3.910e+02 3.721e+03 8.000e+00 3.050e+01 2.650e+01]]\n"
          ]
        }
      ],
      "source": [
        "#5Turn your one-dimensional array of numbers into a two-dimensional array (matrix) with 5 columns. This conversion should be **column-wise**; that is, the first several elements of the array should all end up in the first **column** of your matrix.\n",
        "rows = len(top_secret) //5\n",
        "matrix = top_secret.reshape((rows, 5), order=\"F\")\n",
        "print(matrix)\n",
        "\n",
        "#6\n",
        "evens = np.arange(2, 383, 2)\n",
        "\n",
        "#7\n",
        "matrix[:, 0] = matrix[:, 0] - evens\n",
        "\n",
        "#8\n",
        "matrix[17:24, 2] = matrix[17:24, 2] - 100\n",
        "\n",
        "#9\n",
        "matrix[:, 3] = matrix[:, 3] * 2\n",
        "matrix[:, 4] = matrix[:, 4] * 2\n",
        "\n",
        "#10\n",
        "top_secret = matrix.flatten(order='F')\n"
      ]
    },
    {
      "cell_type": "code",
      "execution_count": 28,
      "metadata": {
        "id": "7Rxn1LS8l_a8"
      },
      "outputs": [
        {
          "name": "stdout",
          "output_type": "stream",
          "text": [
            "True\n"
          ]
        }
      ],
      "source": [
        "#Checkpoint: Headquarters has informed you that at this stage of decoding, there should be 352 numbers in the secret message that are below 17. Write code to check if this is true for your data.\n",
        "print(np.all(top_secret[500:] < 100))"
      ]
    },
    {
      "cell_type": "code",
      "execution_count": 29,
      "metadata": {
        "id": "x7ym-6UpnbXz"
      },
      "outputs": [],
      "source": [
        "#11\n",
        "top_secret[37:465] = np.sqrt(top_secret[37:465])\n",
        "\n",
        "#12\n",
        "top_secret = np.rint(top_secret)\n",
        "\n",
        "#13\n",
        "top_secret[top_secret == 39] = 20"
      ]
    },
    {
      "cell_type": "code",
      "execution_count": 30,
      "metadata": {
        "id": "_3sMWXbHndvA"
      },
      "outputs": [
        {
          "name": "stdout",
          "output_type": "stream",
          "text": [
            "344\n"
          ]
        }
      ],
      "source": [
        "#Checkpoint: Headquarters has informed you that your final message should have 344 even numbers. Write code to check if your numbers fulfill this requirement.\n",
        "print(np.sum(top_secret % 2 == 0))"
      ]
    },
    {
      "cell_type": "code",
      "execution_count": 31,
      "metadata": {
        "colab": {
          "base_uri": "https://localhost:8080/",
          "height": 321
        },
        "id": "v_bB8VNvrrqu",
        "outputId": "35fea815-66f0-4153-8473-2891fddd30cf"
      },
      "outputs": [
        {
          "data": {
            "text/plain": [
              "'\\'Twas brillig, and the slithy toves   Did gyre and gimble in the wabe: All mimsy were the borogoves,   And the mome raths outgrabe. \"Beware the Jabberwock, my son!   The jaws that bite, the claws that catch! Beware the Jubjub bird, and shun   The frumious Bandersnatch!\" He took his vorpal sword in hand;   Long time the manxome foe he sought- So rested he by the Tumtum tree   And stood awhile in thought. And, as in uffish thought he stood,   The Jabberwock, with eyes of flame, Came whiffling through the tulgey wood,   And burbled as it came! One, two! One, two! And through and through   The vorpal blade went snicker-snack! He left it dead, and with its head   He went galumphing back. \"And hast thou slain the Jabberwock?   Come to my arms, my beamish boy! O frabjous day! Callooh! Callay!\"   He chortled in his joy. \\'Twas brillig, and the slithy toves   Did gyre and gimble in the wabe: All mimsy were the borogoves,   And the mome raths outgrabe.'"
            ]
          },
          "execution_count": null,
          "metadata": {},
          "output_type": "execute_result"
        }
      ],
      "source": [
        "''.join(map(str, symbols_df.loc[top_secret-1]['Symbol']))"
      ]
    }
  ],
  "metadata": {
    "colab": {
      "provenance": []
    },
    "kernelspec": {
      "display_name": "Python 3 (ipykernel)",
      "language": "python",
      "name": "python3"
    },
    "language_info": {
      "name": "python"
    }
  },
  "nbformat": 4,
  "nbformat_minor": 0
}
