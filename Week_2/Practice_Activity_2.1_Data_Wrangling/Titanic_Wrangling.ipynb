{
  "cells": [
    {
      "cell_type": "markdown",
      "metadata": {
        "id": "QWpPySbzYEIV"
      },
      "source": [
        "# Titanic Wrangling\n",
        "\n",
        "In this practice activity you'll continue to work with the titanic dataset in ways that flex what you've learned about both data wrangling and data visualization."
      ]
    },
    {
      "cell_type": "code",
      "execution_count": 1,
      "metadata": {
        "id": "Nr6w8bVCf_NM"
      },
      "outputs": [],
      "source": [
        "# Import the titanic dataset here\n",
        "import numpy as np\n",
        "import pandas as pd\n",
        "\n",
        "data_dir = \"https://dlsun.github.io/pods/data/\"\n",
        "df_titanic = pd.read_csv(data_dir + \"titanic.csv\")"
      ]
    },
    {
      "cell_type": "code",
      "execution_count": 12,
      "metadata": {},
      "outputs": [
        {
          "data": {
            "text/html": [
              "<div>\n",
              "<style scoped>\n",
              "    .dataframe tbody tr th:only-of-type {\n",
              "        vertical-align: middle;\n",
              "    }\n",
              "\n",
              "    .dataframe tbody tr th {\n",
              "        vertical-align: top;\n",
              "    }\n",
              "\n",
              "    .dataframe thead th {\n",
              "        text-align: right;\n",
              "    }\n",
              "</style>\n",
              "<table border=\"1\" class=\"dataframe\">\n",
              "  <thead>\n",
              "    <tr style=\"text-align: right;\">\n",
              "      <th></th>\n",
              "      <th>name</th>\n",
              "      <th>gender</th>\n",
              "      <th>age</th>\n",
              "      <th>class</th>\n",
              "      <th>embarked</th>\n",
              "      <th>country</th>\n",
              "      <th>ticketno</th>\n",
              "      <th>fare</th>\n",
              "      <th>survived</th>\n",
              "      <th>type</th>\n",
              "    </tr>\n",
              "  </thead>\n",
              "  <tbody>\n",
              "    <tr>\n",
              "      <th>0</th>\n",
              "      <td>Abbing, Mr. Anthony</td>\n",
              "      <td>male</td>\n",
              "      <td>42.0</td>\n",
              "      <td>3rd</td>\n",
              "      <td>S</td>\n",
              "      <td>United States</td>\n",
              "      <td>5547.0</td>\n",
              "      <td>7.11</td>\n",
              "      <td>0</td>\n",
              "      <td>passenger</td>\n",
              "    </tr>\n",
              "    <tr>\n",
              "      <th>1</th>\n",
              "      <td>Abbott, Mr. Eugene Joseph</td>\n",
              "      <td>male</td>\n",
              "      <td>13.0</td>\n",
              "      <td>3rd</td>\n",
              "      <td>S</td>\n",
              "      <td>United States</td>\n",
              "      <td>2673.0</td>\n",
              "      <td>20.05</td>\n",
              "      <td>0</td>\n",
              "      <td>passenger</td>\n",
              "    </tr>\n",
              "    <tr>\n",
              "      <th>2</th>\n",
              "      <td>Abbott, Mr. Rossmore Edward</td>\n",
              "      <td>male</td>\n",
              "      <td>16.0</td>\n",
              "      <td>3rd</td>\n",
              "      <td>S</td>\n",
              "      <td>United States</td>\n",
              "      <td>2673.0</td>\n",
              "      <td>20.05</td>\n",
              "      <td>0</td>\n",
              "      <td>passenger</td>\n",
              "    </tr>\n",
              "    <tr>\n",
              "      <th>3</th>\n",
              "      <td>Abbott, Mrs. Rhoda Mary 'Rosa'</td>\n",
              "      <td>female</td>\n",
              "      <td>39.0</td>\n",
              "      <td>3rd</td>\n",
              "      <td>S</td>\n",
              "      <td>England</td>\n",
              "      <td>2673.0</td>\n",
              "      <td>20.05</td>\n",
              "      <td>1</td>\n",
              "      <td>passenger</td>\n",
              "    </tr>\n",
              "    <tr>\n",
              "      <th>4</th>\n",
              "      <td>Abelseth, Miss. Karen Marie</td>\n",
              "      <td>female</td>\n",
              "      <td>16.0</td>\n",
              "      <td>3rd</td>\n",
              "      <td>S</td>\n",
              "      <td>Norway</td>\n",
              "      <td>348125.0</td>\n",
              "      <td>7.13</td>\n",
              "      <td>1</td>\n",
              "      <td>passenger</td>\n",
              "    </tr>\n",
              "  </tbody>\n",
              "</table>\n",
              "</div>"
            ],
            "text/plain": [
              "                             name  gender   age class embarked        country  ticketno   fare  survived       type\n",
              "0             Abbing, Mr. Anthony    male  42.0   3rd        S  United States    5547.0   7.11         0  passenger\n",
              "1       Abbott, Mr. Eugene Joseph    male  13.0   3rd        S  United States    2673.0  20.05         0  passenger\n",
              "2     Abbott, Mr. Rossmore Edward    male  16.0   3rd        S  United States    2673.0  20.05         0  passenger\n",
              "3  Abbott, Mrs. Rhoda Mary 'Rosa'  female  39.0   3rd        S        England    2673.0  20.05         1  passenger\n",
              "4     Abelseth, Miss. Karen Marie  female  16.0   3rd        S         Norway  348125.0   7.13         1  passenger"
            ]
          },
          "execution_count": null,
          "metadata": {},
          "output_type": "execute_result"
        }
      ],
      "source": [
        "df_titanic.head()"
      ]
    },
    {
      "cell_type": "markdown",
      "metadata": {
        "id": "9UgZD6VFYa96"
      },
      "source": [
        "## 1. Filter the data to include passengers only. Calculate the joint distribution (cross-tab) between a passenger's class and where they embarked."
      ]
    },
    {
      "cell_type": "code",
      "execution_count": null,
      "metadata": {
        "id": "TBthOzDLgBif"
      },
      "outputs": [],
      "source": [
        "df_titanic[\"type\"] = df_titanic[\"class\"].map({\n",
        "    \"1st\": \"passenger\",\n",
        "    \"2nd\": \"passenger\",\n",
        "    \"3rd\": \"passenger\",\n",
        "    \"victualling crew\": \"crew\",\n",
        "    \"engineering crew\": \"crew\",\n",
        "    \"deck crew\": \"crew\"\n",
        "})"
      ]
    },
    {
      "cell_type": "code",
      "execution_count": 19,
      "metadata": {},
      "outputs": [
        {
          "data": {
            "text/html": [
              "<div>\n",
              "<style scoped>\n",
              "    .dataframe tbody tr th:only-of-type {\n",
              "        vertical-align: middle;\n",
              "    }\n",
              "\n",
              "    .dataframe tbody tr th {\n",
              "        vertical-align: top;\n",
              "    }\n",
              "\n",
              "    .dataframe thead th {\n",
              "        text-align: right;\n",
              "    }\n",
              "</style>\n",
              "<table border=\"1\" class=\"dataframe\">\n",
              "  <thead>\n",
              "    <tr style=\"text-align: right;\">\n",
              "      <th>embarked</th>\n",
              "      <th>B</th>\n",
              "      <th>C</th>\n",
              "      <th>Q</th>\n",
              "      <th>S</th>\n",
              "    </tr>\n",
              "    <tr>\n",
              "      <th>class</th>\n",
              "      <th></th>\n",
              "      <th></th>\n",
              "      <th></th>\n",
              "      <th></th>\n",
              "    </tr>\n",
              "  </thead>\n",
              "  <tbody>\n",
              "    <tr>\n",
              "      <th>1st</th>\n",
              "      <td>3</td>\n",
              "      <td>143</td>\n",
              "      <td>3</td>\n",
              "      <td>175</td>\n",
              "    </tr>\n",
              "    <tr>\n",
              "      <th>2nd</th>\n",
              "      <td>6</td>\n",
              "      <td>26</td>\n",
              "      <td>7</td>\n",
              "      <td>245</td>\n",
              "    </tr>\n",
              "    <tr>\n",
              "      <th>3rd</th>\n",
              "      <td>0</td>\n",
              "      <td>102</td>\n",
              "      <td>113</td>\n",
              "      <td>494</td>\n",
              "    </tr>\n",
              "  </tbody>\n",
              "</table>\n",
              "</div>"
            ],
            "text/plain": [
              "embarked  B    C    Q    S\n",
              "class                     \n",
              "1st       3  143    3  175\n",
              "2nd       6   26    7  245\n",
              "3rd       0  102  113  494"
            ]
          },
          "execution_count": null,
          "metadata": {},
          "output_type": "execute_result"
        }
      ],
      "source": [
        "df_passengers = df_titanic[df_titanic[\"type\"] == \"passenger\"]\n",
        "pd.crosstab(df_passengers[\"class\"], df_passengers[\"embarked\"])"
      ]
    },
    {
      "cell_type": "markdown",
      "metadata": {
        "id": "3CRaJLSyYm4d"
      },
      "source": [
        "## 2. Using the joint distribution that calculated above, calculate the following:\n",
        "\n",
        "* the conditional distribution of their class given where they embarked\n",
        "* the conditional distribution of where they embarked given their class\n",
        "\n",
        "Use the conditional distributions that you calculate to answer the following quesitons:\n",
        "\n",
        "* What proportion of 3rd class passengers embarked at Southampton?\n",
        "* What proportion of Southampton passengers were in 3rd class?"
      ]
    },
    {
      "cell_type": "code",
      "execution_count": 23,
      "metadata": {
        "id": "TfTGidLIv1k0"
      },
      "outputs": [
        {
          "data": {
            "text/html": [
              "<div>\n",
              "<style scoped>\n",
              "    .dataframe tbody tr th:only-of-type {\n",
              "        vertical-align: middle;\n",
              "    }\n",
              "\n",
              "    .dataframe tbody tr th {\n",
              "        vertical-align: top;\n",
              "    }\n",
              "\n",
              "    .dataframe thead th {\n",
              "        text-align: right;\n",
              "    }\n",
              "</style>\n",
              "<table border=\"1\" class=\"dataframe\">\n",
              "  <thead>\n",
              "    <tr style=\"text-align: right;\">\n",
              "      <th>embarked</th>\n",
              "      <th>B</th>\n",
              "      <th>C</th>\n",
              "      <th>Q</th>\n",
              "      <th>S</th>\n",
              "    </tr>\n",
              "    <tr>\n",
              "      <th>class</th>\n",
              "      <th></th>\n",
              "      <th></th>\n",
              "      <th></th>\n",
              "      <th></th>\n",
              "    </tr>\n",
              "  </thead>\n",
              "  <tbody>\n",
              "    <tr>\n",
              "      <th>1st</th>\n",
              "      <td>0.002278</td>\n",
              "      <td>0.108580</td>\n",
              "      <td>0.002278</td>\n",
              "      <td>0.132878</td>\n",
              "    </tr>\n",
              "    <tr>\n",
              "      <th>2nd</th>\n",
              "      <td>0.004556</td>\n",
              "      <td>0.019742</td>\n",
              "      <td>0.005315</td>\n",
              "      <td>0.186029</td>\n",
              "    </tr>\n",
              "    <tr>\n",
              "      <th>3rd</th>\n",
              "      <td>0.000000</td>\n",
              "      <td>0.077449</td>\n",
              "      <td>0.085801</td>\n",
              "      <td>0.375095</td>\n",
              "    </tr>\n",
              "  </tbody>\n",
              "</table>\n",
              "</div>"
            ],
            "text/plain": [
              "embarked         B         C         Q         S\n",
              "class                                           \n",
              "1st       0.002278  0.108580  0.002278  0.132878\n",
              "2nd       0.004556  0.019742  0.005315  0.186029\n",
              "3rd       0.000000  0.077449  0.085801  0.375095"
            ]
          },
          "execution_count": null,
          "metadata": {},
          "output_type": "execute_result"
        }
      ],
      "source": [
        "#the conditional distribution of their class given where they embarked\n",
        "pd.crosstab(df_passengers[\"class\"], df_passengers[\"embarked\"], normalize=True)"
      ]
    },
    {
      "cell_type": "markdown",
      "metadata": {},
      "source": []
    },
    {
      "cell_type": "code",
      "execution_count": 24,
      "metadata": {},
      "outputs": [
        {
          "data": {
            "text/html": [
              "<div>\n",
              "<style scoped>\n",
              "    .dataframe tbody tr th:only-of-type {\n",
              "        vertical-align: middle;\n",
              "    }\n",
              "\n",
              "    .dataframe tbody tr th {\n",
              "        vertical-align: top;\n",
              "    }\n",
              "\n",
              "    .dataframe thead th {\n",
              "        text-align: right;\n",
              "    }\n",
              "</style>\n",
              "<table border=\"1\" class=\"dataframe\">\n",
              "  <thead>\n",
              "    <tr style=\"text-align: right;\">\n",
              "      <th>class</th>\n",
              "      <th>1st</th>\n",
              "      <th>2nd</th>\n",
              "      <th>3rd</th>\n",
              "    </tr>\n",
              "    <tr>\n",
              "      <th>embarked</th>\n",
              "      <th></th>\n",
              "      <th></th>\n",
              "      <th></th>\n",
              "    </tr>\n",
              "  </thead>\n",
              "  <tbody>\n",
              "    <tr>\n",
              "      <th>B</th>\n",
              "      <td>0.002278</td>\n",
              "      <td>0.004556</td>\n",
              "      <td>0.000000</td>\n",
              "    </tr>\n",
              "    <tr>\n",
              "      <th>C</th>\n",
              "      <td>0.108580</td>\n",
              "      <td>0.019742</td>\n",
              "      <td>0.077449</td>\n",
              "    </tr>\n",
              "    <tr>\n",
              "      <th>Q</th>\n",
              "      <td>0.002278</td>\n",
              "      <td>0.005315</td>\n",
              "      <td>0.085801</td>\n",
              "    </tr>\n",
              "    <tr>\n",
              "      <th>S</th>\n",
              "      <td>0.132878</td>\n",
              "      <td>0.186029</td>\n",
              "      <td>0.375095</td>\n",
              "    </tr>\n",
              "  </tbody>\n",
              "</table>\n",
              "</div>"
            ],
            "text/plain": [
              "class          1st       2nd       3rd\n",
              "embarked                              \n",
              "B         0.002278  0.004556  0.000000\n",
              "C         0.108580  0.019742  0.077449\n",
              "Q         0.002278  0.005315  0.085801\n",
              "S         0.132878  0.186029  0.375095"
            ]
          },
          "execution_count": null,
          "metadata": {},
          "output_type": "execute_result"
        }
      ],
      "source": [
        "#the conditional distribution of where they embarked given their class\n",
        "pd.crosstab(df_passengers[\"embarked\"], df_passengers[\"class\"], normalize=True)"
      ]
    },
    {
      "cell_type": "markdown",
      "metadata": {},
      "source": []
    },
    {
      "cell_type": "markdown",
      "metadata": {
        "id": "pGUQeeh1ZRfz"
      },
      "source": [
        "## 3. Make a visualization showing the distribution of a passenger's class, given where they embarked.\n",
        "\n",
        "Discuss the pros and cons of using this visualization versus the distributions you calculated before, to answer the previous questions."
      ]
    },
    {
      "cell_type": "code",
      "execution_count": null,
      "metadata": {
        "id": "PZ18WKJWA-xZ"
      },
      "outputs": [],
      "source": [
        "# Code here\n"
      ]
    }
  ],
  "metadata": {
    "colab": {
      "provenance": []
    },
    "kernelspec": {
      "display_name": "Python 3",
      "name": "python3"
    },
    "language_info": {
      "name": "python"
    }
  },
  "nbformat": 4,
  "nbformat_minor": 0
}
