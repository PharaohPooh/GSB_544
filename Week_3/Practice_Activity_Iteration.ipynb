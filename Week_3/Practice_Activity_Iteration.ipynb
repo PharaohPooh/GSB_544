{
  "cells": [
    {
      "cell_type": "markdown",
      "metadata": {
        "id": "8p1mF9p_njvq"
      },
      "source": [
        "0. Load the `penguins` dataset from the `palmerpenguins` library, as well as any other libraries you need.\n",
        "\n"
      ]
    },
    {
      "cell_type": "code",
      "execution_count": 16,
      "metadata": {
        "id": "B0wyLoBRngwh"
      },
      "outputs": [],
      "source": [
        "from palmerpenguins import load_penguins\n",
        "from plotnine import ggplot, aes, geom_point\n",
        "import pandas as pd\n",
        "import numpy as np\n",
        "\n",
        "penguins = load_penguins()"
      ]
    },
    {
      "cell_type": "markdown",
      "metadata": {
        "id": "LUURcsjcnrA3"
      },
      "source": [
        "1. Write a function that takes in information about a penguin, and returns one of the following definitions:\n",
        "\n",
        "*   \"Big Mouth Billy\": Male penguins with bill length times bill depth greater than 800.\n",
        "*   \"Dainty Daisy\": Female penguins with flipper length less than 5% of body mass.\n",
        "*   \"Average Adelie:\" Any Adelie penguins that do not fall into either category.\n",
        "*   \"Other\": Any penguins that do not fall into any of the categories."
      ]
    },
    {
      "cell_type": "code",
      "execution_count": 17,
      "metadata": {},
      "outputs": [
        {
          "data": {
            "text/plain": [
              "Index(['species', 'island', 'bill_length_mm', 'bill_depth_mm', 'flipper_length_mm', 'body_mass_g', 'sex', 'year'], dtype='object')"
            ]
          },
          "execution_count": null,
          "metadata": {},
          "output_type": "execute_result"
        }
      ],
      "source": [
        "penguins.columns "
      ]
    },
    {
      "cell_type": "code",
      "execution_count": 19,
      "metadata": {},
      "outputs": [
        {
          "name": "stdout",
          "output_type": "stream",
          "text": [
            "       species     island  bill_length_mm  bill_depth_mm  flipper_length_mm  body_mass_g     sex  year\n",
            "0       Adelie  Torgersen            39.1           18.7              181.0       3750.0    male  2007\n",
            "1       Adelie  Torgersen            39.5           17.4              186.0       3800.0  female  2007\n",
            "2       Adelie  Torgersen            40.3           18.0              195.0       3250.0  female  2007\n",
            "3       Adelie  Torgersen             NaN            NaN                NaN          NaN     NaN  2007\n",
            "4       Adelie  Torgersen            36.7           19.3              193.0       3450.0  female  2007\n",
            "..         ...        ...             ...            ...                ...          ...     ...   ...\n",
            "339  Chinstrap      Dream            55.8           19.8              207.0       4000.0    male  2009\n",
            "340  Chinstrap      Dream            43.5           18.1              202.0       3400.0  female  2009\n",
            "341  Chinstrap      Dream            49.6           18.2              193.0       3775.0    male  2009\n",
            "342  Chinstrap      Dream            50.8           19.0              210.0       4100.0    male  2009\n",
            "343  Chinstrap      Dream            50.2           18.7              198.0       3775.0  female  2009\n",
            "\n",
            "[344 rows x 8 columns]\n"
          ]
        }
      ],
      "source": [
        "print(penguins)"
      ]
    },
    {
      "cell_type": "code",
      "execution_count": 53,
      "metadata": {
        "id": "udKVPIJmpKG_"
      },
      "outputs": [],
      "source": [
        "def penguin_namer(row):\n",
        "    if row['sex'] == 'male' and (row['bill_length_mm'] * row['bill_length_mm']) > 800:\n",
        "        new_name = \"Big Mouth Billy\"\n",
        "    elif row['sex'] == 'female' and 0.05 > (row['flipper_length_mm']/row['body_mass_g']):\n",
        "        new_name = \"Dainty Daisy\"\n",
        "    elif row['species'] == \"Adelie\":\n",
        "        new_name == \"Average Adelie\" \n",
        "    else:\n",
        "        new_name = \"Other\"\n",
        "    \n",
        "    return print(new_name)"
      ]
    },
    {
      "cell_type": "code",
      "execution_count": 54,
      "metadata": {},
      "outputs": [
        {
          "data": {
            "text/plain": [
              "species                 Adelie\n",
              "island               Torgersen\n",
              "bill_length_mm            39.1\n",
              "bill_depth_mm             18.7\n",
              "flipper_length_mm        181.0\n",
              "body_mass_g             3750.0\n",
              "sex                       male\n",
              "year                      2007\n",
              "Name: 0, dtype: object"
            ]
          },
          "execution_count": null,
          "metadata": {},
          "output_type": "execute_result"
        }
      ],
      "source": [
        "penguins.iloc[0]"
      ]
    },
    {
      "cell_type": "code",
      "execution_count": 55,
      "metadata": {},
      "outputs": [
        {
          "name": "stdout",
          "output_type": "stream",
          "text": [
            "Big Mouth Billy\n"
          ]
        }
      ],
      "source": [
        "penguin_namer(penguins.iloc[0])"
      ]
    },
    {
      "cell_type": "markdown",
      "metadata": {
        "id": "L3cOiPwJo_q5"
      },
      "source": [
        "2. Use an iterable function to create a new variable called `category_name` that adds these labels."
      ]
    },
    {
      "cell_type": "code",
      "execution_count": null,
      "metadata": {
        "id": "AJk_DHBDpKvV"
      },
      "outputs": [],
      "source": [
        "#use .apply -nav\n",
        "\n"
      ]
    },
    {
      "cell_type": "markdown",
      "metadata": {
        "id": "wzjur3hzpLxr"
      },
      "source": [
        "3. Run the following code to find the counts for each type."
      ]
    },
    {
      "cell_type": "code",
      "execution_count": null,
      "metadata": {
        "id": "iDHDAKOXpPOm"
      },
      "outputs": [],
      "source": [
        "penguins.value_counts(\"category_name\")"
      ]
    }
  ],
  "metadata": {
    "colab": {
      "provenance": []
    },
    "kernelspec": {
      "display_name": "Python 3",
      "name": "python3"
    },
    "language_info": {
      "name": "python"
    }
  },
  "nbformat": 4,
  "nbformat_minor": 0
}
