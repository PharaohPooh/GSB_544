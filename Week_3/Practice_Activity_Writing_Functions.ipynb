{
  "cells": [
    {
      "cell_type": "markdown",
      "metadata": {},
      "source": [
        "---\n",
        "format: \n",
        "  html:\n",
        "    embed-resources: true\n",
        "execute:\n",
        "  echo: true\n",
        "code-fold: true\n",
        "title: Writing Functions\n",
        "author: James Compagno\n",
        "jupyter: python3\n",
        "---"
      ]
    },
    {
      "cell_type": "markdown",
      "metadata": {},
      "source": [
        "Files and work can be found here: https://github.com/PharaohPooh/GSB_544/blob/main/Week_3/Practice_Activity_Writing_Functions.ipynb"
      ]
    },
    {
      "cell_type": "code",
      "execution_count": 37,
      "metadata": {
        "id": "b69ul3XcoRQv"
      },
      "outputs": [],
      "source": [
        "import numpy as np\n",
        "import pandas as pd\n",
        "from sys import exit\n",
        "from palmerpenguins import load_penguins\n",
        "from plotnine import ggplot, aes, geom_point, geom_bar"
      ]
    },
    {
      "cell_type": "markdown",
      "metadata": {
        "id": "1Q8_a-5qociG"
      },
      "source": [
        "1. Fill in the necessary code to write a function called `times_seven()`. The function should take a single argument (`x`) and multiply the input by 7.\n",
        "  + This function should check that the argument is numeric.\n",
        "  + This function should also excitedly announce (print) *“I love sevens!”* if the argument to the function is a 7."
      ]
    },
    {
      "cell_type": "code",
      "execution_count": 38,
      "metadata": {
        "id": "l5CW0nuloYzy"
      },
      "outputs": [],
      "source": [
        "def times_seven(x):\n",
        "\n",
        "  if not isinstance(x, (int, float)):\n",
        "    exit()\n",
        "\n",
        "  if x == 7:\n",
        "    print(\"I love sevens!\")\n",
        "\n",
        "  seven_times = x*7\n",
        "\n",
        "  return seven_times"
      ]
    },
    {
      "cell_type": "code",
      "execution_count": 39,
      "metadata": {},
      "outputs": [
        {
          "data": {
            "text/plain": [
              "56"
            ]
          },
          "execution_count": null,
          "metadata": {},
          "output_type": "execute_result"
        }
      ],
      "source": [
        "times_seven(8)"
      ]
    },
    {
      "cell_type": "markdown",
      "metadata": {
        "id": "nonjYlruotrq"
      },
      "source": [
        "2. Write and run some *unit tests* for your `times_seven` function.  What happens if the input to the function is `[1, 3, 5, 7]`?"
      ]
    },
    {
      "cell_type": "code",
      "execution_count": 40,
      "metadata": {},
      "outputs": [
        {
          "data": {
            "text/plain": [
              "7"
            ]
          },
          "execution_count": null,
          "metadata": {},
          "output_type": "execute_result"
        }
      ],
      "source": [
        "times_seven(1)"
      ]
    },
    {
      "cell_type": "code",
      "execution_count": 41,
      "metadata": {},
      "outputs": [
        {
          "data": {
            "text/plain": [
              "21"
            ]
          },
          "execution_count": null,
          "metadata": {},
          "output_type": "execute_result"
        }
      ],
      "source": [
        "times_seven(3)"
      ]
    },
    {
      "cell_type": "code",
      "execution_count": 42,
      "metadata": {},
      "outputs": [
        {
          "data": {
            "text/plain": [
              "35"
            ]
          },
          "execution_count": null,
          "metadata": {},
          "output_type": "execute_result"
        }
      ],
      "source": [
        "times_seven(5)"
      ]
    },
    {
      "cell_type": "code",
      "execution_count": 43,
      "metadata": {},
      "outputs": [
        {
          "name": "stdout",
          "output_type": "stream",
          "text": [
            "I love sevens!\n"
          ]
        },
        {
          "data": {
            "text/plain": [
              "49"
            ]
          },
          "execution_count": null,
          "metadata": {},
          "output_type": "execute_result"
        }
      ],
      "source": [
        "times_seven(7)"
      ]
    },
    {
      "cell_type": "markdown",
      "metadata": {
        "id": "98sLHKBno39e"
      },
      "source": [
        "3. Consider the following function:"
      ]
    },
    {
      "cell_type": "code",
      "execution_count": 44,
      "metadata": {
        "id": "V1xGEwq-o5mh"
      },
      "outputs": [],
      "source": [
        "def add_or_subtract(first_num, second_num = 2, operation = \"add\"):\n",
        "\n",
        "  if not isinstance(first_num, (int, float)):\n",
        "        exit(\"first_num must be a number\")\n",
        "  if not isinstance(second_num, (int, float)):\n",
        "        exit(\"second_num must be a number\")\n",
        "\n",
        "  if (operation == \"add\"):\n",
        "    res = first_num + second_num\n",
        "  elif (operation == \"subtract\"):\n",
        "    res = first_num - second_num\n",
        "  else:\n",
        "    exit(\"Please choose `add` or `subtract` as the operation.\")\n",
        "\n",
        "  return res"
      ]
    },
    {
      "cell_type": "markdown",
      "metadata": {
        "id": "KIzEYgR1pI0K"
      },
      "source": [
        "**Without running the code**, predict if the following will produce:\n",
        "\n",
        "a. 1\n",
        "\n",
        "b. -1\n",
        "\n",
        "c. 30\n",
        "\n",
        "d. An error defined by the function `add_or_subtract()`\n",
        "\n",
        "e. An error defined in a different function, which is called inside the `add_or_subtract()` function"
      ]
    },
    {
      "cell_type": "markdown",
      "metadata": {},
      "source": [
        "I predicited d"
      ]
    },
    {
      "cell_type": "code",
      "execution_count": 45,
      "metadata": {
        "id": "AKN_fkigpHIS"
      },
      "outputs": [
        {
          "data": {
            "text/plain": [
              "-1"
            ]
          },
          "execution_count": null,
          "metadata": {},
          "output_type": "execute_result"
        }
      ],
      "source": [
        "add_or_subtract(5, 6, operation = \"subtract\")"
      ]
    },
    {
      "cell_type": "code",
      "execution_count": 46,
      "metadata": {},
      "outputs": [
        {
          "ename": "SystemExit",
          "evalue": "first_num must be a number",
          "output_type": "error",
          "traceback": [
            "An exception has occurred, use %tb to see the full traceback.\n",
            "\n",
            "\u001b[0;31mSystemExit\u001b[0m\u001b[0;31m:\u001b[0m first_num must be a number\n"
          ]
        }
      ],
      "source": [
        "add_or_subtract(\"orange\")"
      ]
    },
    {
      "cell_type": "code",
      "execution_count": null,
      "metadata": {},
      "outputs": [
        {
          "ename": "SystemExit",
          "evalue": "Please choose `add` or `subtract` as the operation.",
          "output_type": "error",
          "traceback": [
            "An exception has occurred, use %tb to see the full traceback.\n",
            "\n",
            "\u001b[0;31mSystemExit\u001b[0m\u001b[0;31m:\u001b[0m Please choose `add` or `subtract` as the operation.\n"
          ]
        }
      ],
      "source": [
        "add_or_subtract(5, 6, operation = \"multiply\")"
      ]
    },
    {
      "cell_type": "markdown",
      "metadata": {
        "id": "Z0_cVjgdpOSr"
      },
      "source": [
        "4. Consider the following code:"
      ]
    },
    {
      "cell_type": "code",
      "execution_count": 49,
      "metadata": {
        "id": "G4ImmGWGpekK"
      },
      "outputs": [],
      "source": [
        "first_num  = 5\n",
        "second_num = 3\n",
        "\n",
        "result = 8\n",
        "\n",
        "result = add_or_subtract(first_num, second_num = 4)\n",
        "\n",
        "result_2 = add_or_subtract(first_num)"
      ]
    },
    {
      "cell_type": "code",
      "execution_count": 50,
      "metadata": {},
      "outputs": [
        {
          "name": "stdout",
          "output_type": "stream",
          "text": [
            "5\n",
            "3\n",
            "9\n",
            "7\n"
          ]
        }
      ],
      "source": [
        "print(first_num)\n",
        "print(second_num)\n",
        "print(result)\n",
        "print(result_2)"
      ]
    },
    {
      "cell_type": "markdown",
      "metadata": {
        "id": "K0I7k29Qpjfo"
      },
      "source": [
        "\n",
        "In your Global Environment, what is the value of...\n",
        "\n",
        "a. `first_num` = 5\n",
        "\n",
        "b. `second_num` = 3\n",
        "\n",
        "c. `result` = 9\n",
        "\n",
        "d. `result_2` = 7"
      ]
    },
    {
      "cell_type": "code",
      "execution_count": 48,
      "metadata": {},
      "outputs": [
        {
          "data": {
            "text/plain": [
              "{'__name__': '__main__',\n",
              " '__doc__': 'Automatically created module for IPython interactive environment',\n",
              " '__package__': None,\n",
              " '__loader__': None,\n",
              " '__spec__': None,\n",
              " '__builtin__': <module 'builtins' (built-in)>,\n",
              " '__builtins__': <module 'builtins' (built-in)>,\n",
              " '_ih': ['',\n",
              "  'import numpy as np\\nimport pandas as pd\\nfrom sys import exit\\nfrom palmerpenguins import load_penguins\\nfrom plotnine import ggplot, aes, geom_point, geom_bar',\n",
              "  'def times_seven(x):\\n\\n  if not isinstance(x, (int, float)):\\n    exit()\\n\\n  if x == 7:\\n    print(\"I love sevens!\")\\n\\n  seven_times = x*7\\n\\n  return seven_times',\n",
              "  'times_seven(8)',\n",
              "  'times_seven(1)',\n",
              "  'times_seven(3)',\n",
              "  'times_seven(5)',\n",
              "  'times_seven(7)',\n",
              "  'def add_or_subtract(first_num, second_num = 2, operation = \"add\"):\\n\\n  if not (type(first_num) == \\'int\\' or type(first_num) == \\'float\\'):\\n    exit(\"first_num must be a number\")\\n  elif not (type(second_num) == \\'int\\' or type(second_num) == \\'float\\'):\\n    exit(\"second_num must be a number\")\\n  else:\\n\\n  if (operation == \"add\"):\\n    res = first_num + second_num\\n  elif (operation == \"subtract\"):\\n    res = first_num - second_num\\n  else:\\n    exit(\"Please choose `add` or `subtract` as the operation.\")\\n\\n    return res',\n",
              "  'def add_or_subtract(first_num, second_num = 2, operation = \"add\"):\\n\\n  if not (type(first_num) == \\'int\\' or type(first_num) == \\'float\\'):\\n    exit(\"first_num must be a number\")\\n  elif not (type(second_num) == \\'int\\' or type(second_num) == \\'float\\'):\\n    exit(\"second_num must be a number\")\\n  else:\\n\\n  if (operation == \"add\"):\\n    res = first_num + second_num\\n  elif (operation == \"subtract\"):\\n    res = first_num - second_num\\n  else:\\n    exit(\"Please choose `add` or `subtract` as the operation.\")\\n\\n    return res',\n",
              "  'def add_or_subtract(first_num, second_num = 2, operation = \"add\"):\\n\\n  if not (type(first_num) == \\'int\\' or type(first_num) == \\'float\\'):\\n    exit(\"first_num must be a number\")\\n  elif not (type(second_num) == \\'int\\' or type(second_num) == \\'float\\'):\\n    exit(\"second_num must be a number\")\\n\\n  if (operation == \"add\"):\\n    res = first_num + second_num\\n  elif (operation == \"subtract\"):\\n    res = first_num - second_num\\n  else:\\n    exit(\"Please choose `add` or `subtract` as the operation.\")\\n\\n    return res',\n",
              "  'add_or_subtract(5, 6, operation = \"subtract\")\\n\\nadd_or_subtract(\"orange\")\\n\\nadd_or_subtract(5, 6, operation = \"multiply\")',\n",
              "  'add_or_subtract(5, 6, operation = \"subtract\")',\n",
              "  'add_or_subtract(5, 6, \"subtract\")',\n",
              "  'def add_or_subtract(first_num, second_num = 2, operation = \"add\"):\\n\\n  if (not type(first_num) == \\'int\\' or not type(first_num) == \\'float\\'):\\n    exit(\"first_num must be a number\")\\n  elif not (type(second_num) == \\'int\\' or type(second_num) == \\'float\\'):\\n    exit(\"second_num must be a number\")\\n\\n  if (operation == \"add\"):\\n    res = first_num + second_num\\n  elif (operation == \"subtract\"):\\n    res = first_num - second_num\\n  else:\\n    exit(\"Please choose `add` or `subtract` as the operation.\")\\n\\n    return res',\n",
              "  'add_or_subtract(5, 6, operation = \"subtract\")\\n\\nadd_or_subtract(\"orange\")\\n\\nadd_or_subtract(5, 6, operation = \"multiply\")',\n",
              "  'def add_or_subtract(first_num, second_num = 2, operation = \"add\"):\\n\\n\\n  if (operation == \"add\"):\\n    res = first_num + second_num\\n  elif (operation == \"subtract\"):\\n    res = first_num - second_num\\n  else:\\n    exit(\"Please choose `add` or `subtract` as the operation.\")\\n\\n    return res',\n",
              "  'add_or_subtract(5, 6, operation = \"subtract\")\\n\\nadd_or_subtract(\"orange\")\\n\\nadd_or_subtract(5, 6, operation = \"multiply\")',\n",
              "  'def add_or_subtract(first_num, second_num = 2, operation = \"add\"):\\n\\n  if (not type(first_num) == \\'int\\' or not type(first_num) == \\'float\\'):\\n    exit(\"first_num must be a number\")\\n  elif not (type(second_num) == \\'int\\' or type(second_num) == \\'float\\'):\\n    exit(\"second_num must be a number\")\\n\\n  if (operation == \"add\"):\\n    res = first_num + second_num\\n  elif (operation == \"subtract\"):\\n    res = first_num - second_num\\n  else:\\n    exit(\"Please choose `add` or `subtract` as the operation.\")\\n\\n    return res',\n",
              "  'add_or_subtract(5, 6, operation = \"subtract\")',\n",
              "  'add_or_subtract(\"orange\")',\n",
              "  'add_or_subtract(5, 6, operation = \"multiply\")',\n",
              "  'def add_or_subtract(first_num, second_num = 2, operation = \"add\"):\\n\\n  if not isinstance(first_num, (int, float)):\\n        exit(\"first_num must be a number\")\\n  if not isinstance(second_num, (int, float)):\\n        exit(\"second_num must be a number\")\\n\\n  if (operation == \"add\"):\\n    res = first_num + second_num\\n  elif (operation == \"subtract\"):\\n    res = first_num - second_num\\n  else:\\n    exit(\"Please choose `add` or `subtract` as the operation.\")\\n\\n  return res',\n",
              "  'add_or_subtract(5, 6, operation = \"subtract\")',\n",
              "  'add_or_subtract(\"orange\")',\n",
              "  'add_or_subtract(5, 6, operation = \"multiply\")',\n",
              "  'first_num  = 5\\nsecond_num = 3\\n\\nresult = 8\\n\\nresult = add_or_subtract(first_num, second_num = 4)\\n\\nresult_2 = add_or_subtract(first_num)',\n",
              "  'import numpy as np\\nimport pandas as pd\\nfrom sys import exit\\nfrom palmerpenguins import load_penguins\\nfrom plotnine import ggplot, aes, geom_point, geom_bar',\n",
              "  'def times_seven(x):\\n\\n  if not isinstance(x, (int, float)):\\n    exit()\\n\\n  if x == 7:\\n    print(\"I love sevens!\")\\n\\n  seven_times = x*7\\n\\n  return seven_times',\n",
              "  'times_seven(8)',\n",
              "  'times_seven(1)',\n",
              "  'times_seven(3)',\n",
              "  'times_seven(5)',\n",
              "  'times_seven(7)',\n",
              "  'def add_or_subtract(first_num, second_num = 2, operation = \"add\"):\\n\\n  if not isinstance(first_num, (int, float)):\\n        exit(\"first_num must be a number\")\\n  if not isinstance(second_num, (int, float)):\\n        exit(\"second_num must be a number\")\\n\\n  if (operation == \"add\"):\\n    res = first_num + second_num\\n  elif (operation == \"subtract\"):\\n    res = first_num - second_num\\n  else:\\n    exit(\"Please choose `add` or `subtract` as the operation.\")\\n\\n  return res',\n",
              "  'add_or_subtract(5, 6, operation = \"subtract\")',\n",
              "  'add_or_subtract(\"orange\")',\n",
              "  'import numpy as np\\nimport pandas as pd\\nfrom sys import exit\\nfrom palmerpenguins import load_penguins\\nfrom plotnine import ggplot, aes, geom_point, geom_bar',\n",
              "  'def times_seven(x):\\n\\n  if not isinstance(x, (int, float)):\\n    exit()\\n\\n  if x == 7:\\n    print(\"I love sevens!\")\\n\\n  seven_times = x*7\\n\\n  return seven_times',\n",
              "  'times_seven(8)',\n",
              "  'times_seven(1)',\n",
              "  'times_seven(3)',\n",
              "  'times_seven(5)',\n",
              "  'times_seven(7)',\n",
              "  'def add_or_subtract(first_num, second_num = 2, operation = \"add\"):\\n\\n  if not isinstance(first_num, (int, float)):\\n        exit(\"first_num must be a number\")\\n  if not isinstance(second_num, (int, float)):\\n        exit(\"second_num must be a number\")\\n\\n  if (operation == \"add\"):\\n    res = first_num + second_num\\n  elif (operation == \"subtract\"):\\n    res = first_num - second_num\\n  else:\\n    exit(\"Please choose `add` or `subtract` as the operation.\")\\n\\n  return res',\n",
              "  'add_or_subtract(5, 6, operation = \"subtract\")',\n",
              "  'add_or_subtract(\"orange\")',\n",
              "  'print(first_num)\\nprint(second_num)\\nprint(result)\\nprint(result_2)',\n",
              "  'globals()'],\n",
              " '_oh': {3: 56,\n",
              "  4: 7,\n",
              "  5: 21,\n",
              "  6: 35,\n",
              "  7: 49,\n",
              "  23: -1,\n",
              "  29: 56,\n",
              "  30: 7,\n",
              "  31: 21,\n",
              "  32: 35,\n",
              "  33: 49,\n",
              "  35: -1,\n",
              "  39: 56,\n",
              "  40: 7,\n",
              "  41: 21,\n",
              "  42: 35,\n",
              "  43: 49,\n",
              "  45: -1},\n",
              " '_dh': [PosixPath('/Users/jamescompagno/Library/CloudStorage/OneDrive-Personal/MSBA/GSB_544/Week_3')],\n",
              " 'In': ['',\n",
              "  'import numpy as np\\nimport pandas as pd\\nfrom sys import exit\\nfrom palmerpenguins import load_penguins\\nfrom plotnine import ggplot, aes, geom_point, geom_bar',\n",
              "  'def times_seven(x):\\n\\n  if not isinstance(x, (int, float)):\\n    exit()\\n\\n  if x == 7:\\n    print(\"I love sevens!\")\\n\\n  seven_times = x*7\\n\\n  return seven_times',\n",
              "  'times_seven(8)',\n",
              "  'times_seven(1)',\n",
              "  'times_seven(3)',\n",
              "  'times_seven(5)',\n",
              "  'times_seven(7)',\n",
              "  'def add_or_subtract(first_num, second_num = 2, operation = \"add\"):\\n\\n  if not (type(first_num) == \\'int\\' or type(first_num) == \\'float\\'):\\n    exit(\"first_num must be a number\")\\n  elif not (type(second_num) == \\'int\\' or type(second_num) == \\'float\\'):\\n    exit(\"second_num must be a number\")\\n  else:\\n\\n  if (operation == \"add\"):\\n    res = first_num + second_num\\n  elif (operation == \"subtract\"):\\n    res = first_num - second_num\\n  else:\\n    exit(\"Please choose `add` or `subtract` as the operation.\")\\n\\n    return res',\n",
              "  'def add_or_subtract(first_num, second_num = 2, operation = \"add\"):\\n\\n  if not (type(first_num) == \\'int\\' or type(first_num) == \\'float\\'):\\n    exit(\"first_num must be a number\")\\n  elif not (type(second_num) == \\'int\\' or type(second_num) == \\'float\\'):\\n    exit(\"second_num must be a number\")\\n  else:\\n\\n  if (operation == \"add\"):\\n    res = first_num + second_num\\n  elif (operation == \"subtract\"):\\n    res = first_num - second_num\\n  else:\\n    exit(\"Please choose `add` or `subtract` as the operation.\")\\n\\n    return res',\n",
              "  'def add_or_subtract(first_num, second_num = 2, operation = \"add\"):\\n\\n  if not (type(first_num) == \\'int\\' or type(first_num) == \\'float\\'):\\n    exit(\"first_num must be a number\")\\n  elif not (type(second_num) == \\'int\\' or type(second_num) == \\'float\\'):\\n    exit(\"second_num must be a number\")\\n\\n  if (operation == \"add\"):\\n    res = first_num + second_num\\n  elif (operation == \"subtract\"):\\n    res = first_num - second_num\\n  else:\\n    exit(\"Please choose `add` or `subtract` as the operation.\")\\n\\n    return res',\n",
              "  'add_or_subtract(5, 6, operation = \"subtract\")\\n\\nadd_or_subtract(\"orange\")\\n\\nadd_or_subtract(5, 6, operation = \"multiply\")',\n",
              "  'add_or_subtract(5, 6, operation = \"subtract\")',\n",
              "  'add_or_subtract(5, 6, \"subtract\")',\n",
              "  'def add_or_subtract(first_num, second_num = 2, operation = \"add\"):\\n\\n  if (not type(first_num) == \\'int\\' or not type(first_num) == \\'float\\'):\\n    exit(\"first_num must be a number\")\\n  elif not (type(second_num) == \\'int\\' or type(second_num) == \\'float\\'):\\n    exit(\"second_num must be a number\")\\n\\n  if (operation == \"add\"):\\n    res = first_num + second_num\\n  elif (operation == \"subtract\"):\\n    res = first_num - second_num\\n  else:\\n    exit(\"Please choose `add` or `subtract` as the operation.\")\\n\\n    return res',\n",
              "  'add_or_subtract(5, 6, operation = \"subtract\")\\n\\nadd_or_subtract(\"orange\")\\n\\nadd_or_subtract(5, 6, operation = \"multiply\")',\n",
              "  'def add_or_subtract(first_num, second_num = 2, operation = \"add\"):\\n\\n\\n  if (operation == \"add\"):\\n    res = first_num + second_num\\n  elif (operation == \"subtract\"):\\n    res = first_num - second_num\\n  else:\\n    exit(\"Please choose `add` or `subtract` as the operation.\")\\n\\n    return res',\n",
              "  'add_or_subtract(5, 6, operation = \"subtract\")\\n\\nadd_or_subtract(\"orange\")\\n\\nadd_or_subtract(5, 6, operation = \"multiply\")',\n",
              "  'def add_or_subtract(first_num, second_num = 2, operation = \"add\"):\\n\\n  if (not type(first_num) == \\'int\\' or not type(first_num) == \\'float\\'):\\n    exit(\"first_num must be a number\")\\n  elif not (type(second_num) == \\'int\\' or type(second_num) == \\'float\\'):\\n    exit(\"second_num must be a number\")\\n\\n  if (operation == \"add\"):\\n    res = first_num + second_num\\n  elif (operation == \"subtract\"):\\n    res = first_num - second_num\\n  else:\\n    exit(\"Please choose `add` or `subtract` as the operation.\")\\n\\n    return res',\n",
              "  'add_or_subtract(5, 6, operation = \"subtract\")',\n",
              "  'add_or_subtract(\"orange\")',\n",
              "  'add_or_subtract(5, 6, operation = \"multiply\")',\n",
              "  'def add_or_subtract(first_num, second_num = 2, operation = \"add\"):\\n\\n  if not isinstance(first_num, (int, float)):\\n        exit(\"first_num must be a number\")\\n  if not isinstance(second_num, (int, float)):\\n        exit(\"second_num must be a number\")\\n\\n  if (operation == \"add\"):\\n    res = first_num + second_num\\n  elif (operation == \"subtract\"):\\n    res = first_num - second_num\\n  else:\\n    exit(\"Please choose `add` or `subtract` as the operation.\")\\n\\n  return res',\n",
              "  'add_or_subtract(5, 6, operation = \"subtract\")',\n",
              "  'add_or_subtract(\"orange\")',\n",
              "  'add_or_subtract(5, 6, operation = \"multiply\")',\n",
              "  'first_num  = 5\\nsecond_num = 3\\n\\nresult = 8\\n\\nresult = add_or_subtract(first_num, second_num = 4)\\n\\nresult_2 = add_or_subtract(first_num)',\n",
              "  'import numpy as np\\nimport pandas as pd\\nfrom sys import exit\\nfrom palmerpenguins import load_penguins\\nfrom plotnine import ggplot, aes, geom_point, geom_bar',\n",
              "  'def times_seven(x):\\n\\n  if not isinstance(x, (int, float)):\\n    exit()\\n\\n  if x == 7:\\n    print(\"I love sevens!\")\\n\\n  seven_times = x*7\\n\\n  return seven_times',\n",
              "  'times_seven(8)',\n",
              "  'times_seven(1)',\n",
              "  'times_seven(3)',\n",
              "  'times_seven(5)',\n",
              "  'times_seven(7)',\n",
              "  'def add_or_subtract(first_num, second_num = 2, operation = \"add\"):\\n\\n  if not isinstance(first_num, (int, float)):\\n        exit(\"first_num must be a number\")\\n  if not isinstance(second_num, (int, float)):\\n        exit(\"second_num must be a number\")\\n\\n  if (operation == \"add\"):\\n    res = first_num + second_num\\n  elif (operation == \"subtract\"):\\n    res = first_num - second_num\\n  else:\\n    exit(\"Please choose `add` or `subtract` as the operation.\")\\n\\n  return res',\n",
              "  'add_or_subtract(5, 6, operation = \"subtract\")',\n",
              "  'add_or_subtract(\"orange\")',\n",
              "  'import numpy as np\\nimport pandas as pd\\nfrom sys import exit\\nfrom palmerpenguins import load_penguins\\nfrom plotnine import ggplot, aes, geom_point, geom_bar',\n",
              "  'def times_seven(x):\\n\\n  if not isinstance(x, (int, float)):\\n    exit()\\n\\n  if x == 7:\\n    print(\"I love sevens!\")\\n\\n  seven_times = x*7\\n\\n  return seven_times',\n",
              "  'times_seven(8)',\n",
              "  'times_seven(1)',\n",
              "  'times_seven(3)',\n",
              "  'times_seven(5)',\n",
              "  'times_seven(7)',\n",
              "  'def add_or_subtract(first_num, second_num = 2, operation = \"add\"):\\n\\n  if not isinstance(first_num, (int, float)):\\n        exit(\"first_num must be a number\")\\n  if not isinstance(second_num, (int, float)):\\n        exit(\"second_num must be a number\")\\n\\n  if (operation == \"add\"):\\n    res = first_num + second_num\\n  elif (operation == \"subtract\"):\\n    res = first_num - second_num\\n  else:\\n    exit(\"Please choose `add` or `subtract` as the operation.\")\\n\\n  return res',\n",
              "  'add_or_subtract(5, 6, operation = \"subtract\")',\n",
              "  'add_or_subtract(\"orange\")',\n",
              "  'print(first_num)\\nprint(second_num)\\nprint(result)\\nprint(result_2)',\n",
              "  'globals()'],\n",
              " 'Out': {3: 56,\n",
              "  4: 7,\n",
              "  5: 21,\n",
              "  6: 35,\n",
              "  7: 49,\n",
              "  23: -1,\n",
              "  29: 56,\n",
              "  30: 7,\n",
              "  31: 21,\n",
              "  32: 35,\n",
              "  33: 49,\n",
              "  35: -1,\n",
              "  39: 56,\n",
              "  40: 7,\n",
              "  41: 21,\n",
              "  42: 35,\n",
              "  43: 49,\n",
              "  45: -1},\n",
              " 'get_ipython': <bound method InteractiveShell.get_ipython of <positron.positron_ipkernel.PositronShell object at 0x1122fe510>>,\n",
              " 'exit': <function sys.exit(status=None, /)>,\n",
              " 'quit': <IPython.core.autocall.ZMQExitAutocall at 0x11243c1a0>,\n",
              " 'open': <function _io.open(file, mode='r', buffering=-1, encoding=None, errors=None, newline=None, closefd=True, opener=None)>,\n",
              " 'help': <function positron.help.help(topic='help')>,\n",
              " '_': -1,\n",
              " '__': 49,\n",
              " '___': 35,\n",
              " '_i': 'print(first_num)\\nprint(second_num)\\nprint(result)\\nprint(result_2)',\n",
              " '_ii': 'add_or_subtract(\"orange\")',\n",
              " '_iii': 'add_or_subtract(5, 6, operation = \"subtract\")',\n",
              " '_i1': 'import numpy as np\\nimport pandas as pd\\nfrom sys import exit\\nfrom palmerpenguins import load_penguins\\nfrom plotnine import ggplot, aes, geom_point, geom_bar',\n",
              " 'np': <module 'numpy' from '/opt/anaconda3/lib/python3.13/site-packages/numpy/__init__.py'>,\n",
              " 'pd': <module 'pandas' from '/opt/anaconda3/lib/python3.13/site-packages/pandas/__init__.py'>,\n",
              " 'load_penguins': <function palmerpenguins.penguins.load_penguins(return_X_y=False, drop_na=False)>,\n",
              " 'ggplot': plotnine.ggplot.ggplot,\n",
              " 'aes': plotnine.mapping.aes.aes,\n",
              " 'geom_point': plotnine.geoms.geom_point.geom_point,\n",
              " 'geom_bar': plotnine.geoms.geom_bar.geom_bar,\n",
              " '_i2': 'def times_seven(x):\\n\\n  if not isinstance(x, (int, float)):\\n    exit()\\n\\n  if x == 7:\\n    print(\"I love sevens!\")\\n\\n  seven_times = x*7\\n\\n  return seven_times',\n",
              " 'times_seven': <function __main__.times_seven(x)>,\n",
              " '_i3': 'times_seven(8)',\n",
              " '_3': 56,\n",
              " '_i4': 'times_seven(1)',\n",
              " '_4': 7,\n",
              " '_i5': 'times_seven(3)',\n",
              " '_5': 21,\n",
              " '_i6': 'times_seven(5)',\n",
              " '_6': 35,\n",
              " '_i7': 'times_seven(7)',\n",
              " '_7': 49,\n",
              " '_i8': 'def add_or_subtract(first_num, second_num = 2, operation = \"add\"):\\n\\n  if not (type(first_num) == \\'int\\' or type(first_num) == \\'float\\'):\\n    exit(\"first_num must be a number\")\\n  elif not (type(second_num) == \\'int\\' or type(second_num) == \\'float\\'):\\n    exit(\"second_num must be a number\")\\n  else:\\n\\n  if (operation == \"add\"):\\n    res = first_num + second_num\\n  elif (operation == \"subtract\"):\\n    res = first_num - second_num\\n  else:\\n    exit(\"Please choose `add` or `subtract` as the operation.\")\\n\\n    return res',\n",
              " '_i9': 'def add_or_subtract(first_num, second_num = 2, operation = \"add\"):\\n\\n  if not (type(first_num) == \\'int\\' or type(first_num) == \\'float\\'):\\n    exit(\"first_num must be a number\")\\n  elif not (type(second_num) == \\'int\\' or type(second_num) == \\'float\\'):\\n    exit(\"second_num must be a number\")\\n  else:\\n\\n  if (operation == \"add\"):\\n    res = first_num + second_num\\n  elif (operation == \"subtract\"):\\n    res = first_num - second_num\\n  else:\\n    exit(\"Please choose `add` or `subtract` as the operation.\")\\n\\n    return res',\n",
              " '_i10': 'def add_or_subtract(first_num, second_num = 2, operation = \"add\"):\\n\\n  if not (type(first_num) == \\'int\\' or type(first_num) == \\'float\\'):\\n    exit(\"first_num must be a number\")\\n  elif not (type(second_num) == \\'int\\' or type(second_num) == \\'float\\'):\\n    exit(\"second_num must be a number\")\\n\\n  if (operation == \"add\"):\\n    res = first_num + second_num\\n  elif (operation == \"subtract\"):\\n    res = first_num - second_num\\n  else:\\n    exit(\"Please choose `add` or `subtract` as the operation.\")\\n\\n    return res',\n",
              " 'add_or_subtract': <function __main__.add_or_subtract(first_num, second_num=2, operation='add')>,\n",
              " '_i11': 'add_or_subtract(5, 6, operation = \"subtract\")\\n\\nadd_or_subtract(\"orange\")\\n\\nadd_or_subtract(5, 6, operation = \"multiply\")',\n",
              " '_i12': 'add_or_subtract(5, 6, operation = \"subtract\")',\n",
              " '_i13': 'add_or_subtract(5, 6, \"subtract\")',\n",
              " '_i14': 'def add_or_subtract(first_num, second_num = 2, operation = \"add\"):\\n\\n  if (not type(first_num) == \\'int\\' or not type(first_num) == \\'float\\'):\\n    exit(\"first_num must be a number\")\\n  elif not (type(second_num) == \\'int\\' or type(second_num) == \\'float\\'):\\n    exit(\"second_num must be a number\")\\n\\n  if (operation == \"add\"):\\n    res = first_num + second_num\\n  elif (operation == \"subtract\"):\\n    res = first_num - second_num\\n  else:\\n    exit(\"Please choose `add` or `subtract` as the operation.\")\\n\\n    return res',\n",
              " '_i15': 'add_or_subtract(5, 6, operation = \"subtract\")\\n\\nadd_or_subtract(\"orange\")\\n\\nadd_or_subtract(5, 6, operation = \"multiply\")',\n",
              " '_i16': 'def add_or_subtract(first_num, second_num = 2, operation = \"add\"):\\n\\n\\n  if (operation == \"add\"):\\n    res = first_num + second_num\\n  elif (operation == \"subtract\"):\\n    res = first_num - second_num\\n  else:\\n    exit(\"Please choose `add` or `subtract` as the operation.\")\\n\\n    return res',\n",
              " '_i17': 'add_or_subtract(5, 6, operation = \"subtract\")\\n\\nadd_or_subtract(\"orange\")\\n\\nadd_or_subtract(5, 6, operation = \"multiply\")',\n",
              " '_i18': 'def add_or_subtract(first_num, second_num = 2, operation = \"add\"):\\n\\n  if (not type(first_num) == \\'int\\' or not type(first_num) == \\'float\\'):\\n    exit(\"first_num must be a number\")\\n  elif not (type(second_num) == \\'int\\' or type(second_num) == \\'float\\'):\\n    exit(\"second_num must be a number\")\\n\\n  if (operation == \"add\"):\\n    res = first_num + second_num\\n  elif (operation == \"subtract\"):\\n    res = first_num - second_num\\n  else:\\n    exit(\"Please choose `add` or `subtract` as the operation.\")\\n\\n    return res',\n",
              " '_i19': 'add_or_subtract(5, 6, operation = \"subtract\")',\n",
              " '_i20': 'add_or_subtract(\"orange\")',\n",
              " '_i21': 'add_or_subtract(5, 6, operation = \"multiply\")',\n",
              " '_i22': 'def add_or_subtract(first_num, second_num = 2, operation = \"add\"):\\n\\n  if not isinstance(first_num, (int, float)):\\n        exit(\"first_num must be a number\")\\n  if not isinstance(second_num, (int, float)):\\n        exit(\"second_num must be a number\")\\n\\n  if (operation == \"add\"):\\n    res = first_num + second_num\\n  elif (operation == \"subtract\"):\\n    res = first_num - second_num\\n  else:\\n    exit(\"Please choose `add` or `subtract` as the operation.\")\\n\\n  return res',\n",
              " '_i23': 'add_or_subtract(5, 6, operation = \"subtract\")',\n",
              " '_23': -1,\n",
              " '_i24': 'add_or_subtract(\"orange\")',\n",
              " '_i25': 'add_or_subtract(5, 6, operation = \"multiply\")',\n",
              " '_i26': 'first_num  = 5\\nsecond_num = 3\\n\\nresult = 8\\n\\nresult = add_or_subtract(first_num, second_num = 4)\\n\\nresult_2 = add_or_subtract(first_num)',\n",
              " 'first_num': 5,\n",
              " 'second_num': 3,\n",
              " 'result': 9,\n",
              " 'result_2': 7,\n",
              " '_i27': 'import numpy as np\\nimport pandas as pd\\nfrom sys import exit\\nfrom palmerpenguins import load_penguins\\nfrom plotnine import ggplot, aes, geom_point, geom_bar',\n",
              " '_i28': 'def times_seven(x):\\n\\n  if not isinstance(x, (int, float)):\\n    exit()\\n\\n  if x == 7:\\n    print(\"I love sevens!\")\\n\\n  seven_times = x*7\\n\\n  return seven_times',\n",
              " '_i29': 'times_seven(8)',\n",
              " '_29': 56,\n",
              " '_i30': 'times_seven(1)',\n",
              " '_30': 7,\n",
              " '_i31': 'times_seven(3)',\n",
              " '_31': 21,\n",
              " '_i32': 'times_seven(5)',\n",
              " '_32': 35,\n",
              " '_i33': 'times_seven(7)',\n",
              " '_33': 49,\n",
              " '_i34': 'def add_or_subtract(first_num, second_num = 2, operation = \"add\"):\\n\\n  if not isinstance(first_num, (int, float)):\\n        exit(\"first_num must be a number\")\\n  if not isinstance(second_num, (int, float)):\\n        exit(\"second_num must be a number\")\\n\\n  if (operation == \"add\"):\\n    res = first_num + second_num\\n  elif (operation == \"subtract\"):\\n    res = first_num - second_num\\n  else:\\n    exit(\"Please choose `add` or `subtract` as the operation.\")\\n\\n  return res',\n",
              " '_i35': 'add_or_subtract(5, 6, operation = \"subtract\")',\n",
              " '_35': -1,\n",
              " '_i36': 'add_or_subtract(\"orange\")',\n",
              " '_i37': 'import numpy as np\\nimport pandas as pd\\nfrom sys import exit\\nfrom palmerpenguins import load_penguins\\nfrom plotnine import ggplot, aes, geom_point, geom_bar',\n",
              " '_i38': 'def times_seven(x):\\n\\n  if not isinstance(x, (int, float)):\\n    exit()\\n\\n  if x == 7:\\n    print(\"I love sevens!\")\\n\\n  seven_times = x*7\\n\\n  return seven_times',\n",
              " '_i39': 'times_seven(8)',\n",
              " '_39': 56,\n",
              " '_i40': 'times_seven(1)',\n",
              " '_40': 7,\n",
              " '_i41': 'times_seven(3)',\n",
              " '_41': 21,\n",
              " '_i42': 'times_seven(5)',\n",
              " '_42': 35,\n",
              " '_i43': 'times_seven(7)',\n",
              " '_43': 49,\n",
              " '_i44': 'def add_or_subtract(first_num, second_num = 2, operation = \"add\"):\\n\\n  if not isinstance(first_num, (int, float)):\\n        exit(\"first_num must be a number\")\\n  if not isinstance(second_num, (int, float)):\\n        exit(\"second_num must be a number\")\\n\\n  if (operation == \"add\"):\\n    res = first_num + second_num\\n  elif (operation == \"subtract\"):\\n    res = first_num - second_num\\n  else:\\n    exit(\"Please choose `add` or `subtract` as the operation.\")\\n\\n  return res',\n",
              " '_i45': 'add_or_subtract(5, 6, operation = \"subtract\")',\n",
              " '_45': -1,\n",
              " '_i46': 'add_or_subtract(\"orange\")',\n",
              " '_i47': 'print(first_num)\\nprint(second_num)\\nprint(result)\\nprint(result_2)',\n",
              " '_i48': 'globals()'}"
            ]
          },
          "execution_count": null,
          "metadata": {},
          "output_type": "execute_result"
        }
      ],
      "source": [
        "globals()"
      ]
    }
  ],
  "metadata": {
    "colab": {
      "provenance": []
    },
    "kernelspec": {
      "display_name": "Python 3",
      "name": "python3"
    },
    "language_info": {
      "name": "python"
    }
  },
  "nbformat": 4,
  "nbformat_minor": 0
}
