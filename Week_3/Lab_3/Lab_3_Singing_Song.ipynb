{
 "cells": [
  {
   "cell_type": "markdown",
   "id": "a8b96153",
   "metadata": {},
   "source": [
    "---\n",
    "format: \n",
    "  html:\n",
    "    embed-resources: true\n",
    "execute:\n",
    "  echo: true\n",
    "code-fold: true\n",
    "title: 12 Days of Christmas Song Lab\n",
    "author: James Compagno\n",
    "jupyter: python3\n",
    "---"
   ]
  },
  {
   "cell_type": "markdown",
   "id": "794e3fe9",
   "metadata": {},
   "source": [
    "Files and work can be found here: https://github.com/PharaohPooh/GSB_544/tree/main/Week_3/Lab_3"
   ]
  },
  {
   "cell_type": "code",
   "execution_count": 1,
   "id": "7ec05dfa",
   "metadata": {},
   "outputs": [],
   "source": [
    "import numpy as np\n",
    "import pandas as pd\n",
    "import plotnine as p9\n",
    "\n",
    "xmas = pd.read_csv(\"https://www.dropbox.com/scl/fi/qxaslqqp5p08i1650rpc4/xmas.csv?rlkey=erdxi7jbh7pqf9fh4lv4cayp5&dl=1\")\n",
    "xmas2 = pd.read_csv(\"https://www.dropbox.com/scl/fi/p9x9k8xwuzs9rhp582vfy/xmas_2.csv?rlkey=kvc3j3lmyn4opcidsrhcmrof1&dl=1\")"
   ]
  },
  {
   "cell_type": "code",
   "execution_count": 2,
   "id": "f325ac5a",
   "metadata": {},
   "outputs": [
    {
     "name": "stdout",
     "output_type": "stream",
     "text": [
      "Index(['Day', 'Day.in.Words', 'Gift.Item', 'Verb', 'Adjective', 'Location'], dtype='object')\n"
     ]
    }
   ],
   "source": [
    "print(xmas.columns)"
   ]
  },
  {
   "cell_type": "markdown",
   "id": "9f38ce54",
   "metadata": {},
   "source": [
    "# Function 1: `pluralize_gift()`"
   ]
  },
  {
   "cell_type": "code",
   "execution_count": 3,
   "id": "7a8a86d1",
   "metadata": {},
   "outputs": [],
   "source": [
    "def pluralize_gift(gift):\n",
    "    \"\"\"Return plural of a noun.\"\"\"\n",
    "    if not isinstance(gift, str):\n",
    "        gift = str(gift)\n",
    "    gift = gift.strip()\n",
    "\n",
    "    if \"oo\" in gift:\n",
    "        gift = gift.replace(\"oo\", \"ee\", 1)\n",
    "    elif gift[-1].lower() == 'y' and (len(gift) == 1 or gift[-2].lower() not in \"aeiou\"):\n",
    "        gift = gift[:-1] + \"ies\"\n",
    "    else:\n",
    "        gift = gift + \"s\"\n",
    "\n",
    "    return gift"
   ]
  },
  {
   "cell_type": "code",
   "execution_count": 4,
   "id": "12a0c389",
   "metadata": {},
   "outputs": [
    {
     "data": {
      "text/plain": [
       "'geese'"
      ]
     },
     "execution_count": null,
     "metadata": {},
     "output_type": "execute_result"
    }
   ],
   "source": [
    "# Should work\n",
    "pluralize_gift(\"goose\")"
   ]
  },
  {
   "cell_type": "code",
   "execution_count": 5,
   "id": "7989bd84",
   "metadata": {},
   "outputs": [
    {
     "data": {
      "text/plain": [
       "'0     partridge\\n1          dove\\n2           hen\\n3          bird\\n4          ring\\n5         geese\\n6          swan\\n7          maid\\n8          lady\\n9          lord\\n10        piper\\n11      drummer\\nName: Gift.Item, dtype: object'"
      ]
     },
     "execution_count": null,
     "metadata": {},
     "output_type": "execute_result"
    }
   ],
   "source": [
    "# Will work if your function is vectorized! \n",
    "xmas[\"Gift.Plural\"] = xmas[\"Gift.Item\"].map(pluralize_gift)\n",
    "pluralize_gift(xmas['Gift.Item'])"
   ]
  },
  {
   "cell_type": "markdown",
   "id": "3fa67b32",
   "metadata": {},
   "source": [
    "# Function 2: `make_phrase()`"
   ]
  },
  {
   "cell_type": "markdown",
   "id": "2225b4a3",
   "metadata": {},
   "source": [
    "Write a function called `make_phrase()` that takes as input the necessary information, and returns a phrase. For example,\n",
    "\n",
    "make_phrase(num_word = \"ten\", \n",
    "            item = \"lords\", \n",
    "            verb = \"a-leaping\", \n",
    "            adjective = \"\", \n",
    "            location = \"\")\n",
    "should return\n",
    "\n",
    "\"ten lords a-leaping\"\n",
    "\n",
    "First make a function that does a single line called `make_line`"
   ]
  },
  {
   "cell_type": "code",
   "execution_count": 6,
   "id": "20c302e3",
   "metadata": {},
   "outputs": [],
   "source": [
    "def make_line(day, itemnum, daytest, gifttest, adj, song_verb, location):\n",
    "    \"\"\"\n",
    "    Makes the part of the line with the most customization.\n",
    "\n",
    "    Parameters\n",
    "    ----------\n",
    "    List conatining itemnum, daytest, gifttest, adj\n",
    "        \n",
    "    Returns\n",
    "    -------\n",
    "    Text describing the gift for that day.\n",
    "\n",
    "    \"\"\"\n",
    "    # Remove None/NA\n",
    "    adj = adj or \"\"\n",
    "    song_verb = song_verb or \"\"\n",
    "    location = location or \"\"\n",
    "\n",
    "    # Choose plural or singular\n",
    "    if day > 1:\n",
    "        gift_word = pluralize_gift(gifttest)\n",
    "    else:\n",
    "        gift_word = gifttest\n",
    "\n",
    "    # Make Phrase\n",
    "    line = f\"On the {daytest} day of Christmas, my true love gave to me: {itemnum} {adj} {gift_word} {song_verb} {location}\"\n",
    "\n",
    "    # Cleanup\n",
    "    line = \" \".join(line.split())\n",
    "    line += \".\"\n",
    "\n",
    "    return line"
   ]
  },
  {
   "cell_type": "code",
   "execution_count": 78,
   "id": "18bc20f0",
   "metadata": {},
   "outputs": [
    {
     "name": "stdout",
     "output_type": "stream",
     "text": [
      "On the third day of Christmas, my true love gave to me: three french hens.\n",
      "On the tenth day of Christmas, my true love gave to me: ten lords a-leaping.\n",
      "On the first day of Christmas, my true love gave to me: a partridge in a pear tree.\n"
     ]
    }
   ],
   "source": [
    "#Test 1\n",
    "print(make_line(3,\"three\", \"third\", \"hen\", \"french\", None, None))\n",
    "print(make_line(10,\"ten\", \"tenth\", \"lord\", None, \"a-leaping\", None))\n",
    "print(make_line(1,\"a\", \"first\", \"partridge\", None, None, \"in a pear tree\"))"
   ]
  },
  {
   "cell_type": "code",
   "execution_count": 80,
   "id": "43b5892f",
   "metadata": {},
   "outputs": [],
   "source": [
    "def make_phrase(day):\n",
    "    \"\"\"\n",
    "    Sings the song based on the selected day.\n",
    "\n",
    "    Parameters\n",
    "    ----------\n",
    "    DataFrame containing columns: 'Day' which is a number\n",
    "        \n",
    "    Returns\n",
    "    -------\n",
    "    Text describing the gift for that day stored in a new column called Data.Frame\n",
    "    \"\"\"\n",
    "    # Add the column \n",
    "    item_amounts = [\n",
    "        'a', 'two', 'three', 'four', 'five', 'six',\n",
    "        'seven', 'eight', 'nine', 'ten', 'eleven', 'twelve'\n",
    "    ]\n",
    "    xmas['item_amount'] = item_amounts\n",
    "\n",
    "    # Select the day\n",
    "    row_index = xmas.index[xmas[\"Day\"] == day][0]\n",
    "    row = xmas.loc[row_index]\n",
    "\n",
    "    # Extract values\n",
    "    day_word = row[\"Day.in.Words\"]\n",
    "    gift = row[\"Gift.Item\"]\n",
    "    item_num = row[\"item_amount\"]\n",
    "    verb = row.get(\"Verb\", \"\")\n",
    "    adjective = row.get(\"Adjective\", \"\")\n",
    "    location = row.get(\"Location\", \"\")\n",
    "\n",
    "    # Handle NaN text fields cleanly\n",
    "    if pd.isna(verb): verb = \"\"\n",
    "    if pd.isna(adjective): adjective = \"\"\n",
    "    if pd.isna(location): location = \"\"\n",
    "\n",
    "    # Choose plural or singular\n",
    "    if day > 1:\n",
    "        gift_word = row[\"Gift.Plural\"]\n",
    "    elif day == 1 and verb != \"\":\n",
    "        item_num = \"an\"\n",
    "        gift_word = gift\n",
    "    else:\n",
    "        gift_word = gift\n",
    "\n",
    "    # Make Phrase\n",
    "    line = f\"On the {day_word} day of Christmas, my true love gave to me: {item_num} {adjective} {gift_word} {verb} {location}\"\n",
    "    line = \" \".join(line.split()) + \".\"\n",
    "\n",
    "    # Store in Full.Phrase\n",
    "    xmas.loc[row_index, \"Full.Phrase\"] = line\n",
    "\n",
    "    return line\n"
   ]
  },
  {
   "cell_type": "code",
   "execution_count": 81,
   "id": "0eb05b79",
   "metadata": {},
   "outputs": [
    {
     "name": "stdout",
     "output_type": "stream",
     "text": [
      "On the sixth day of Christmas, my true love gave to me: six geese a-laying.\n",
      "On the twelfth day of Christmas, my true love gave to me: twelve drummers drumming.\n",
      "On the first day of Christmas, my true love gave to me: a partridge in a pear tree.\n"
     ]
    }
   ],
   "source": [
    "#Test 1\n",
    "print(make_phrase(6))\n",
    "print(make_phrase(12))\n",
    "print(make_phrase(1))"
   ]
  },
  {
   "cell_type": "markdown",
   "id": "4e5eff29",
   "metadata": {},
   "source": [
    "# Function 3: `sing_day()`"
   ]
  },
  {
   "cell_type": "code",
   "execution_count": 85,
   "id": "66749d60",
   "metadata": {},
   "outputs": [],
   "source": [
    "def make_phrase_update(dataset, day, phrase_col):\n",
    "    \"\"\"\n",
    "    Sings the song based on the selected day and dataframe. The song can be sung as either a single line or decending from the day selected.\n",
    "\n",
    "    Parameters\n",
    "    ----------\n",
    "    DataFrame containing columns: 'Dataset', 'Day'\n",
    "        \n",
    "    Returns\n",
    "    -------\n",
    "    Text describing the gift for that day.\n",
    "\n",
    "    \"\"\"\n",
    "    # Number of items by day \n",
    "    item_amounts = ['a','two','three','four','five','six',\n",
    "                    'seven','eight','nine','ten','eleven','twelve']\n",
    "    day_to_amount = {i+1: w for i, w in enumerate(item_amounts)}\n",
    "    dataset['item_amount'] = dataset['Day'].map(day_to_amount)\n",
    "\n",
    "    # Ensure Gift.Plural works or add it\n",
    "    if 'Gift.Plural' not in dataset.columns:\n",
    "        dataset['Gift.Plural'] = dataset['Gift.Item'].map(pluralize_gift)\n",
    "\n",
    "    # Select Day\n",
    "    row_index = dataset.index[dataset['Day'] == day][0]\n",
    "    row = dataset.loc[row_index]\n",
    "\n",
    "    # Insert Values\n",
    "    gift = row['Gift.Item']\n",
    "    item_num = row['item_amount']\n",
    "    verb = row.get('Verb', '')\n",
    "    adjective = row.get('Adjective', '')\n",
    "    location = row.get('Location', '')\n",
    "    verb = '' if pd.isna(verb) else verb\n",
    "    adjective = '' if pd.isna(adjective) else adjective\n",
    "    location = '' if pd.isna(location) else location\n",
    "\n",
    "    # Pluralize\n",
    "    if day > 1:\n",
    "        gift_word = row['Gift.Plural'] \n",
    "    else: \n",
    "        gift_word = gift\n",
    "\n",
    "    # Build the line (no intro, no trailing period)\n",
    "    line = f\"{item_num} {adjective} {gift_word} {verb} {location}\"\n",
    "    line = \" \".join(line.split())\n",
    "\n",
    "    # Store in the dataset\n",
    "    dataset.loc[row_index, phrase_col] = line\n",
    "\n",
    "    return line"
   ]
  },
  {
   "cell_type": "code",
   "execution_count": 88,
   "id": "8817bf9c",
   "metadata": {},
   "outputs": [
    {
     "name": "stdout",
     "output_type": "stream",
     "text": [
      "three french hens\n",
      "five practice exams\n"
     ]
    }
   ],
   "source": [
    "print(make_phrase_update(xmas, 3, \"Full.Phrase\"))\n",
    "print(make_phrase_update(xmas2, 5, \"Full.Phrase\"))"
   ]
  },
  {
   "cell_type": "code",
   "execution_count": 89,
   "id": "1f22b812",
   "metadata": {},
   "outputs": [],
   "source": [
    "def sing_day(dataset, day, phrase_col):\n",
    "    \"\"\"\n",
    "    Sing the verse for `day` using `make_phrase_update` for each day down to 1.\n",
    "    \"\"\"\n",
    "    day_word = dataset.loc[dataset['Day'] == day, 'Day.in.Words'].iloc[0]\n",
    "    intro = f\"On the {day_word} day of Christmas, my true love sent to me:\"\n",
    "\n",
    "    lines = []\n",
    "    for d in range(day, 1, -1):\n",
    "        line = make_phrase_update(dataset, d, phrase_col)\n",
    "        lines.append(line + \",\")\n",
    "\n",
    "    last_line = make_phrase_update(dataset, 1, phrase_col)\n",
    "    if day > 1:\n",
    "        if last_line.startswith(\"a \") or last_line.startswith(\"an \"):\n",
    "            last_line = \"and \" + last_line\n",
    "        else:\n",
    "            last_line = \"and \" + last_line\n",
    "    last_line = last_line.rstrip(\".\") + \".\"\n",
    "\n",
    "    verse = \"\\n\".join([intro] + lines + [last_line])\n",
    "    return verse"
   ]
  },
  {
   "cell_type": "code",
   "execution_count": 92,
   "id": "4d25ce40",
   "metadata": {},
   "outputs": [
    {
     "name": "stdout",
     "output_type": "stream",
     "text": [
      "On the third day of Christmas, my true love sent to me:\n",
      "three french hens,\n",
      "two turtle doves,\n",
      "and a partridge in a pear tree.\n"
     ]
    }
   ],
   "source": [
    "print(sing_day(xmas, 3, \"Full.Phrase\"))"
   ]
  },
  {
   "cell_type": "code",
   "execution_count": 91,
   "id": "2a715fe8",
   "metadata": {},
   "outputs": [
    {
     "name": "stdout",
     "output_type": "stream",
     "text": [
      "On the sixth day of Christmas, my true love sent to me:\n",
      "six graders grading,\n",
      "five practice exams,\n",
      "four course reviews,\n",
      "three lost pens,\n",
      "two meal points,\n",
      "and a email from Cal Poly.\n"
     ]
    }
   ],
   "source": [
    "print(sing_day(xmas2, 6, \"Full.Phrase\"))"
   ]
  }
 ],
 "metadata": {
  "language_info": {
   "name": "python"
  }
 },
 "nbformat": 4,
 "nbformat_minor": 5
}
