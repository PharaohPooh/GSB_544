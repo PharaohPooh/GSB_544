{
 "cells": [
  {
   "cell_type": "markdown",
   "id": "a8b96153",
   "metadata": {},
   "source": [
    "---\n",
    "format: \n",
    "  html:\n",
    "    embed-resources: true\n",
    "execute:\n",
    "  echo: true\n",
    "code-fold: true\n",
    "title: 12 Days of Lab\n",
    "author: James Compagno\n",
    "jupyter: python3\n",
    "---"
   ]
  }
 ],
 "metadata": {
  "language_info": {
   "name": "plaintext"
  }
 },
 "nbformat": 4,
 "nbformat_minor": 5
}
