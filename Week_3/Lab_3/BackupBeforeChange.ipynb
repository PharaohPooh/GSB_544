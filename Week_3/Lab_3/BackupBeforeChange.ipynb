{
 "cells": [
  {
   "cell_type": "markdown",
   "id": "a8b96153",
   "metadata": {},
   "source": [
    "---\n",
    "format: \n",
    "  html:\n",
    "    embed-resources: true\n",
    "execute:\n",
    "  echo: true\n",
    "code-fold: true\n",
    "title: 12 Days of Christmas Song Lab\n",
    "author: James Compagno\n",
    "jupyter: python3\n",
    "---"
   ]
  },
  {
   "cell_type": "markdown",
   "id": "794e3fe9",
   "metadata": {},
   "source": [
    "Files and work can be found here: https://github.com/PharaohPooh/GSB_544/tree/main/Week_3/Lab_3"
   ]
  },
  {
   "cell_type": "code",
   "execution_count": 120,
   "id": "7ec05dfa",
   "metadata": {},
   "outputs": [],
   "source": [
    "import numpy as np\n",
    "import pandas as pd\n",
    "import plotnine as p9\n",
    "\n",
    "xmas = pd.read_csv(\"https://www.dropbox.com/scl/fi/qxaslqqp5p08i1650rpc4/xmas.csv?rlkey=erdxi7jbh7pqf9fh4lv4cayp5&dl=1\")\n",
    "#xmas = pd.read_csv(\"/Users/jamescompagno/Library/CloudStorage/OneDrive-Personal/MSBA/GSB_544/Week_3/Lab_3/xmas2.csv\")\n",
    "xmas2 = pd.read_csv(\"https://www.dropbox.com/scl/fi/p9x9k8xwuzs9rhp582vfy/xmas_2.csv?rlkey=kvc3j3lmyn4opcidsrhcmrof1&dl=1\")"
   ]
  },
  {
   "cell_type": "code",
   "execution_count": 121,
   "id": "722f02f0",
   "metadata": {},
   "outputs": [],
   "source": [
    "xmas = xmas.rename(columns={\n",
    "    'Day.in.Words': 'day_in_words',\n",
    "    'Gift.Item': 'gift_item',\n",
    "    'Gift.Plural': 'gift_plural'\n",
    "    })"
   ]
  },
  {
   "cell_type": "code",
   "execution_count": 122,
   "id": "f325ac5a",
   "metadata": {},
   "outputs": [
    {
     "name": "stdout",
     "output_type": "stream",
     "text": [
      "Index(['Day', 'day_in_words', 'gift_item', 'Verb', 'Adjective', 'Location'], dtype='object')\n"
     ]
    }
   ],
   "source": [
    "print(xmas.columns)"
   ]
  },
  {
   "cell_type": "markdown",
   "id": "9f38ce54",
   "metadata": {},
   "source": [
    "# Function 1: `pluralize_gift()`"
   ]
  },
  {
   "cell_type": "code",
   "execution_count": 123,
   "id": "7a8a86d1",
   "metadata": {},
   "outputs": [],
   "source": [
    "def pluralize_gift(gift):\n",
    "    \"\"\"Return plural of a noun.\"\"\"\n",
    "    if not isinstance(gift, str):\n",
    "        gift = str(gift)\n",
    "    gift = gift.strip()\n",
    "\n",
    "    if \"oo\" in gift:\n",
    "        gift = gift.replace(\"oo\", \"ee\", 1)\n",
    "    elif gift[-1].lower() == 'y' and (len(gift) == 1 or gift[-2].lower() not in \"aeiou\"):\n",
    "        gift = gift[:-1] + \"ies\"\n",
    "    else:\n",
    "        gift = gift + \"s\"\n",
    "\n",
    "    return gift"
   ]
  },
  {
   "cell_type": "code",
   "execution_count": 124,
   "id": "12a0c389",
   "metadata": {},
   "outputs": [
    {
     "data": {
      "text/plain": [
       "'geese'"
      ]
     },
     "execution_count": null,
     "metadata": {},
     "output_type": "execute_result"
    }
   ],
   "source": [
    "# Should work\n",
    "pluralize_gift(\"goose\")"
   ]
  },
  {
   "cell_type": "code",
   "execution_count": 125,
   "id": "7989bd84",
   "metadata": {},
   "outputs": [
    {
     "data": {
      "text/plain": [
       "'0     partridge\\n1          dove\\n2           hen\\n3          bird\\n4          ring\\n5         geese\\n6          swan\\n7          maid\\n8          lady\\n9          lord\\n10        piper\\n11      drummer\\nName: gift_item, dtype: object'"
      ]
     },
     "execution_count": null,
     "metadata": {},
     "output_type": "execute_result"
    }
   ],
   "source": [
    "# Will work if your function is vectorized! \n",
    "xmas[\"gift_plural\"] = xmas[\"gift_item\"].map(pluralize_gift)\n",
    "pluralize_gift(xmas['gift_item'])"
   ]
  },
  {
   "cell_type": "markdown",
   "id": "3fa67b32",
   "metadata": {},
   "source": [
    "# Function 2: `make_phrase()`"
   ]
  },
  {
   "cell_type": "markdown",
   "id": "2225b4a3",
   "metadata": {},
   "source": [
    "Write a function called `make_phrase()` that takes as input the necessary information, and returns a phrase. For example,\n",
    "\n",
    "make_phrase(num_word = \"ten\", \n",
    "            item = \"lords\", \n",
    "            verb = \"a-leaping\", \n",
    "            adjective = \"\", \n",
    "            location = \"\")\n",
    "should return\n",
    "\n",
    "\"ten lords a-leaping\"\n",
    "\n",
    "First make a function that does a single line called `make_line`"
   ]
  },
  {
   "cell_type": "code",
   "execution_count": 126,
   "id": "20c302e3",
   "metadata": {},
   "outputs": [],
   "source": [
    "def make_line(day, itemnum, daytest, gifttest, adj, song_verb, location):\n",
    "    \"\"\"\n",
    "    Makes the part of the line with the most customization.\n",
    "\n",
    "    Parameters\n",
    "    ----------\n",
    "    List conatining itemnum, daytest, gifttest, adj\n",
    "        \n",
    "    Returns\n",
    "    -------\n",
    "    Text describing the gift for that day.\n",
    "\n",
    "    \"\"\"\n",
    "    # Remove None/NA\n",
    "    adj = adj or \"\"\n",
    "    song_verb = song_verb or \"\"\n",
    "    location = location or \"\"\n",
    "\n",
    "    # Choose plural or singular\n",
    "    if day > 1:\n",
    "        gift_word = pluralize_gift(gifttest)\n",
    "    else:\n",
    "        gift_word = gifttest\n",
    "\n",
    "    # Make Phrase\n",
    "    line = f\"On the {daytest} day of Christmas, my true love gave to me: {itemnum} {adj} {gift_word} {song_verb} {location}\"\n",
    "\n",
    "    # Cleanup\n",
    "    line = \" \".join(line.split())\n",
    "    line += \".\"\n",
    "\n",
    "    return line"
   ]
  },
  {
   "cell_type": "code",
   "execution_count": 127,
   "id": "18bc20f0",
   "metadata": {},
   "outputs": [
    {
     "data": {
      "text/plain": [
       "'On the third day of Christmas, my true love gave to me: three french hens.'"
      ]
     },
     "execution_count": null,
     "metadata": {},
     "output_type": "execute_result"
    }
   ],
   "source": [
    "#Test 1\n",
    "make_line(3,\"three\", \"third\", \"hen\", \"french\", None, None)"
   ]
  },
  {
   "cell_type": "code",
   "execution_count": 128,
   "id": "2ba2a624",
   "metadata": {},
   "outputs": [
    {
     "data": {
      "text/plain": [
       "'On the tenth day of Christmas, my true love gave to me: ten lords a-leaping.'"
      ]
     },
     "execution_count": null,
     "metadata": {},
     "output_type": "execute_result"
    }
   ],
   "source": [
    "#Test 2\n",
    "make_line(10,\"ten\", \"tenth\", \"lord\", None, \"a-leaping\", None)"
   ]
  },
  {
   "cell_type": "code",
   "execution_count": 129,
   "id": "56e53e1e",
   "metadata": {},
   "outputs": [
    {
     "data": {
      "text/plain": [
       "'On the first day of Christmas, my true love gave to me: a partridge in a pear tree.'"
      ]
     },
     "execution_count": null,
     "metadata": {},
     "output_type": "execute_result"
    }
   ],
   "source": [
    "#Test 3\n",
    "make_line(1,\"a\", \"first\", \"partridge\", None, None, \"in a pear tree\")"
   ]
  },
  {
   "cell_type": "code",
   "execution_count": null,
   "id": "b2ff9c53",
   "metadata": {},
   "outputs": [],
   "source": [
    "def make_phrase(day):\n",
    "    \"\"\"\n",
    "    Sings the song based on the selected day.\n",
    "\n",
    "    Parameters\n",
    "    ----------\n",
    "    DataFrame containing columns: 'Day' which is a number\n",
    "        \n",
    "    Returns\n",
    "    -------\n",
    "    Text describing the gift for that day.\n",
    "\n",
    "    \"\"\"\n",
    "    #Add the column \n",
    "    item_amounts = [\n",
    "    'a',\n",
    "    'two',\n",
    "    'three',\n",
    "    'four',\n",
    "    'five',\n",
    "    'six',\n",
    "    'seven',\n",
    "    'eight',\n",
    "    'nine',\n",
    "    'ten',\n",
    "    'eleven',\n",
    "    'twelve']\n",
    "    xmas['item_amount'] = item_amounts\n",
    "\n",
    "    # Select the day\n",
    "    row = xmas.loc[xmas[\"Day\"] == day].iloc[0]\n",
    "\n",
    "    # Insert Values\n",
    "    day_word = row[\"day_in_words\"]\n",
    "    gift = row[\"gift_item\"]\n",
    "    item_num = row[\"item_amount\"]\n",
    "    verb = row[\"Verb\"] if pd.notna(row[\"Verb\"]) else \"\"\n",
    "    adjective = row[\"Adjective\"] if pd.notna(row[\"Adjective\"]) else \"\"\n",
    "    location = row[\"Location\"] if pd.notna(row[\"Location\"]) else \"\"\n",
    "\n",
    "    # Choose plural or singular\n",
    "    if day > 1:\n",
    "        gift_word = row[\"gift_plural\"]\n",
    "    elif day == 1 and verb != \"\":\n",
    "        item_num = \"an\"\n",
    "        gift_word = gift\n",
    "    else:\n",
    "        gift_word = gift\n",
    "\n",
    "    # Make Phrase\n",
    "    line = f\"On the {day_word} day of Christmas, my true love gave to me: {item_num} {adjective} {gift_word} {verb} {location}\"\n",
    "\n",
    "    # Cleanup\n",
    "    line = \" \".join(line.split())\n",
    "    line += \".\"\n",
    "\n",
    "    return line\n"
   ]
  },
  {
   "cell_type": "code",
   "execution_count": 137,
   "id": "0eb05b79",
   "metadata": {},
   "outputs": [
    {
     "data": {
      "text/plain": [
       "'On the sixth day of Christmas, my true love gave to me: six geese a-laying.'"
      ]
     },
     "execution_count": null,
     "metadata": {},
     "output_type": "execute_result"
    }
   ],
   "source": [
    "#Test 1\n",
    "make_phrase(6)"
   ]
  },
  {
   "cell_type": "code",
   "execution_count": null,
   "id": "664f9bd6",
   "metadata": {},
   "outputs": [],
   "source": [
    "#Test 2\n",
    "make_phrase(12)"
   ]
  },
  {
   "cell_type": "code",
   "execution_count": null,
   "id": "05f07881",
   "metadata": {},
   "outputs": [],
   "source": [
    "#Test 3\n",
    "make_phrase(1)"
   ]
  },
  {
   "cell_type": "markdown",
   "id": "4e5eff29",
   "metadata": {},
   "source": [
    "# Function 3: `sing_day()`"
   ]
  },
  {
   "cell_type": "code",
   "execution_count": 138,
   "id": "6bbcf4ab",
   "metadata": {},
   "outputs": [],
   "source": [
    "def sing_day(dataset, day):\n",
    "    \"\"\"\n",
    "    Sings the song based on the selected day and dataframe. The song can be sung as either a single line or decending from the day selected.\n",
    "\n",
    "    Parameters\n",
    "    ----------\n",
    "    DataFrame containing columns: 'Dataset', 'Day'\n",
    "        \n",
    "    Returns\n",
    "    -------\n",
    "    Text describing the gift for that day.\n",
    "\n",
    "    \"\"\"\n",
    "    #Add the column \n",
    "    item_amounts = [\n",
    "    'a',\n",
    "    'two',\n",
    "    'three',\n",
    "    'four',\n",
    "    'five',\n",
    "    'six',\n",
    "    'seven',\n",
    "    'eight',\n",
    "    'nine',\n",
    "    'ten',\n",
    "    'eleven',\n",
    "    'twelve']\n",
    "    dataset['item_amount'] = item_amounts\n",
    "\n",
    "    # Select the day\n",
    "    row = dataset.loc[dataset[\"Day\"] == day].iloc[0]\n",
    "\n",
    "    # Insert Values\n",
    "    day_word = row[\"day_in_words\"]\n",
    "    gift = row[\"gift_item\"]\n",
    "    item_num = row[\"item_amount\"]\n",
    "    verb = row[\"Verb\"] if pd.notna(row[\"Verb\"]) else \"\"\n",
    "    adjective = row[\"Adjective\"] if pd.notna(row[\"Adjective\"]) else \"\"\n",
    "    location = row[\"Location\"] if pd.notna(row[\"Location\"]) else \"\"\n",
    "\n",
    "    # Choose plural or singular\n",
    "    if day > 1:\n",
    "        gift_word = row[\"gift_plural\"]\n",
    "    elif day == 1 and verb != \"\":\n",
    "        item_num = \"an\"\n",
    "        gift_word = gift\n",
    "    else:\n",
    "        gift_word = gift\n",
    "\n",
    "    # Make Phrase\n",
    "    line = f\"On the {day_word} day of Christmas, my true love gave to me: {item_num} {adjective} {gift_word} {verb} {location}\"\n",
    "\n",
    "    # Cleanup\n",
    "    line = \" \".join(line.split())\n",
    "    line += \".\"\n",
    "\n",
    "    return line\n"
   ]
  },
  {
   "cell_type": "code",
   "execution_count": 140,
   "id": "b0e8499b",
   "metadata": {},
   "outputs": [
    {
     "ename": "KeyError",
     "evalue": "'day_in_words'",
     "output_type": "error",
     "traceback": [
      "\u001b[0;31m---------------------------------------------------------------------------\u001b[0m\n",
      "\u001b[0;31mKeyError\u001b[0m                                  Traceback (most recent call last)\n",
      "File \u001b[0;32m/opt/anaconda3/lib/python3.13/site-packages/pandas/core/indexes/base.py:3805\u001b[0m, in \u001b[0;36mIndex.get_loc\u001b[0;34m(self, key)\u001b[0m\n",
      "\u001b[1;32m   3804\u001b[0m \u001b[38;5;28;01mtry\u001b[39;00m:\n",
      "\u001b[0;32m-> 3805\u001b[0m     \u001b[38;5;28;01mreturn\u001b[39;00m \u001b[38;5;28;43mself\u001b[39;49m\u001b[38;5;241;43m.\u001b[39;49m\u001b[43m_engine\u001b[49m\u001b[38;5;241;43m.\u001b[39;49m\u001b[43mget_loc\u001b[49m\u001b[43m(\u001b[49m\u001b[43mcasted_key\u001b[49m\u001b[43m)\u001b[49m\n",
      "\u001b[1;32m   3806\u001b[0m \u001b[38;5;28;01mexcept\u001b[39;00m \u001b[38;5;167;01mKeyError\u001b[39;00m \u001b[38;5;28;01mas\u001b[39;00m err:\n",
      "\n",
      "File \u001b[0;32mindex.pyx:167\u001b[0m, in \u001b[0;36mpandas._libs.index.IndexEngine.get_loc\u001b[0;34m()\u001b[0m\n",
      "\n",
      "File \u001b[0;32mindex.pyx:196\u001b[0m, in \u001b[0;36mpandas._libs.index.IndexEngine.get_loc\u001b[0;34m()\u001b[0m\n",
      "\n",
      "File \u001b[0;32mpandas/_libs/hashtable_class_helper.pxi:7081\u001b[0m, in \u001b[0;36mpandas._libs.hashtable.PyObjectHashTable.get_item\u001b[0;34m()\u001b[0m\n",
      "\n",
      "File \u001b[0;32mpandas/_libs/hashtable_class_helper.pxi:7089\u001b[0m, in \u001b[0;36mpandas._libs.hashtable.PyObjectHashTable.get_item\u001b[0;34m()\u001b[0m\n",
      "\n",
      "\u001b[0;31mKeyError\u001b[0m: 'day_in_words'\n",
      "\n",
      "The above exception was the direct cause of the following exception:\n",
      "\n",
      "\u001b[0;31mKeyError\u001b[0m                                  Traceback (most recent call last)\n",
      "Cell \u001b[0;32mIn[140], line 1\u001b[0m\n",
      "\u001b[0;32m----> 1\u001b[0m \u001b[43msing_day\u001b[49m\u001b[43m(\u001b[49m\u001b[43mxmas2\u001b[49m\u001b[43m,\u001b[49m\u001b[43m \u001b[49m\u001b[38;5;241;43m3\u001b[39;49m\u001b[43m)\u001b[49m\n",
      "\n",
      "Cell \u001b[0;32mIn[138], line 34\u001b[0m, in \u001b[0;36msing_day\u001b[0;34m(dataset, day)\u001b[0m\n",
      "\u001b[1;32m     31\u001b[0m row \u001b[38;5;241m=\u001b[39m dataset\u001b[38;5;241m.\u001b[39mloc[dataset[\u001b[38;5;124m\"\u001b[39m\u001b[38;5;124mDay\u001b[39m\u001b[38;5;124m\"\u001b[39m] \u001b[38;5;241m==\u001b[39m day]\u001b[38;5;241m.\u001b[39miloc[\u001b[38;5;241m0\u001b[39m]\n",
      "\u001b[1;32m     33\u001b[0m \u001b[38;5;66;03m# Insert Values\u001b[39;00m\n",
      "\u001b[0;32m---> 34\u001b[0m day_word \u001b[38;5;241m=\u001b[39m \u001b[43mrow\u001b[49m\u001b[43m[\u001b[49m\u001b[38;5;124;43m\"\u001b[39;49m\u001b[38;5;124;43mday_in_words\u001b[39;49m\u001b[38;5;124;43m\"\u001b[39;49m\u001b[43m]\u001b[49m\n",
      "\u001b[1;32m     35\u001b[0m gift \u001b[38;5;241m=\u001b[39m row[\u001b[38;5;124m\"\u001b[39m\u001b[38;5;124mgift_item\u001b[39m\u001b[38;5;124m\"\u001b[39m]\n",
      "\u001b[1;32m     36\u001b[0m item_num \u001b[38;5;241m=\u001b[39m row[\u001b[38;5;124m\"\u001b[39m\u001b[38;5;124mitem_amount\u001b[39m\u001b[38;5;124m\"\u001b[39m]\n",
      "\n",
      "File \u001b[0;32m/opt/anaconda3/lib/python3.13/site-packages/pandas/core/series.py:1121\u001b[0m, in \u001b[0;36mSeries.__getitem__\u001b[0;34m(self, key)\u001b[0m\n",
      "\u001b[1;32m   1118\u001b[0m     \u001b[38;5;28;01mreturn\u001b[39;00m \u001b[38;5;28mself\u001b[39m\u001b[38;5;241m.\u001b[39m_values[key]\n",
      "\u001b[1;32m   1120\u001b[0m \u001b[38;5;28;01melif\u001b[39;00m key_is_scalar:\n",
      "\u001b[0;32m-> 1121\u001b[0m     \u001b[38;5;28;01mreturn\u001b[39;00m \u001b[38;5;28;43mself\u001b[39;49m\u001b[38;5;241;43m.\u001b[39;49m\u001b[43m_get_value\u001b[49m\u001b[43m(\u001b[49m\u001b[43mkey\u001b[49m\u001b[43m)\u001b[49m\n",
      "\u001b[1;32m   1123\u001b[0m \u001b[38;5;66;03m# Convert generator to list before going through hashable part\u001b[39;00m\n",
      "\u001b[1;32m   1124\u001b[0m \u001b[38;5;66;03m# (We will iterate through the generator there to check for slices)\u001b[39;00m\n",
      "\u001b[1;32m   1125\u001b[0m \u001b[38;5;28;01mif\u001b[39;00m is_iterator(key):\n",
      "\n",
      "File \u001b[0;32m/opt/anaconda3/lib/python3.13/site-packages/pandas/core/series.py:1237\u001b[0m, in \u001b[0;36mSeries._get_value\u001b[0;34m(self, label, takeable)\u001b[0m\n",
      "\u001b[1;32m   1234\u001b[0m     \u001b[38;5;28;01mreturn\u001b[39;00m \u001b[38;5;28mself\u001b[39m\u001b[38;5;241m.\u001b[39m_values[label]\n",
      "\u001b[1;32m   1236\u001b[0m \u001b[38;5;66;03m# Similar to Index.get_value, but we do not fall back to positional\u001b[39;00m\n",
      "\u001b[0;32m-> 1237\u001b[0m loc \u001b[38;5;241m=\u001b[39m \u001b[38;5;28;43mself\u001b[39;49m\u001b[38;5;241;43m.\u001b[39;49m\u001b[43mindex\u001b[49m\u001b[38;5;241;43m.\u001b[39;49m\u001b[43mget_loc\u001b[49m\u001b[43m(\u001b[49m\u001b[43mlabel\u001b[49m\u001b[43m)\u001b[49m\n",
      "\u001b[1;32m   1239\u001b[0m \u001b[38;5;28;01mif\u001b[39;00m is_integer(loc):\n",
      "\u001b[1;32m   1240\u001b[0m     \u001b[38;5;28;01mreturn\u001b[39;00m \u001b[38;5;28mself\u001b[39m\u001b[38;5;241m.\u001b[39m_values[loc]\n",
      "\n",
      "File \u001b[0;32m/opt/anaconda3/lib/python3.13/site-packages/pandas/core/indexes/base.py:3812\u001b[0m, in \u001b[0;36mIndex.get_loc\u001b[0;34m(self, key)\u001b[0m\n",
      "\u001b[1;32m   3807\u001b[0m     \u001b[38;5;28;01mif\u001b[39;00m \u001b[38;5;28misinstance\u001b[39m(casted_key, \u001b[38;5;28mslice\u001b[39m) \u001b[38;5;129;01mor\u001b[39;00m (\n",
      "\u001b[1;32m   3808\u001b[0m         \u001b[38;5;28misinstance\u001b[39m(casted_key, abc\u001b[38;5;241m.\u001b[39mIterable)\n",
      "\u001b[1;32m   3809\u001b[0m         \u001b[38;5;129;01mand\u001b[39;00m \u001b[38;5;28many\u001b[39m(\u001b[38;5;28misinstance\u001b[39m(x, \u001b[38;5;28mslice\u001b[39m) \u001b[38;5;28;01mfor\u001b[39;00m x \u001b[38;5;129;01min\u001b[39;00m casted_key)\n",
      "\u001b[1;32m   3810\u001b[0m     ):\n",
      "\u001b[1;32m   3811\u001b[0m         \u001b[38;5;28;01mraise\u001b[39;00m InvalidIndexError(key)\n",
      "\u001b[0;32m-> 3812\u001b[0m     \u001b[38;5;28;01mraise\u001b[39;00m \u001b[38;5;167;01mKeyError\u001b[39;00m(key) \u001b[38;5;28;01mfrom\u001b[39;00m\u001b[38;5;250m \u001b[39m\u001b[38;5;21;01merr\u001b[39;00m\n",
      "\u001b[1;32m   3813\u001b[0m \u001b[38;5;28;01mexcept\u001b[39;00m \u001b[38;5;167;01mTypeError\u001b[39;00m:\n",
      "\u001b[1;32m   3814\u001b[0m     \u001b[38;5;66;03m# If we have a listlike key, _check_indexing_error will raise\u001b[39;00m\n",
      "\u001b[1;32m   3815\u001b[0m     \u001b[38;5;66;03m#  InvalidIndexError. Otherwise we fall through and re-raise\u001b[39;00m\n",
      "\u001b[1;32m   3816\u001b[0m     \u001b[38;5;66;03m#  the TypeError.\u001b[39;00m\n",
      "\u001b[1;32m   3817\u001b[0m     \u001b[38;5;28mself\u001b[39m\u001b[38;5;241m.\u001b[39m_check_indexing_error(key)\n",
      "\n",
      "\u001b[0;31mKeyError\u001b[0m: 'day_in_words'"
     ]
    }
   ],
   "source": [
    "sing_day(xmas2, 3)"
   ]
  },
  {
   "cell_type": "code",
   "execution_count": null,
   "id": "29684b81",
   "metadata": {},
   "outputs": [],
   "source": [
    "start_day = 6\n",
    "\n",
    "while start_day >= 1:\n",
    "     print(make_song(start_day)),\n",
    "     start_day = start_day -1"
   ]
  },
  {
   "cell_type": "code",
   "execution_count": null,
   "id": "8c2e4e68",
   "metadata": {},
   "outputs": [],
   "source": []
  }
 ],
 "metadata": {
  "language_info": {
   "name": "python"
  }
 },
 "nbformat": 4,
 "nbformat_minor": 5
}
