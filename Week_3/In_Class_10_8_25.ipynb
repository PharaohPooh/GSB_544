{
 "cells": [
  {
   "cell_type": "code",
   "execution_count": 58,
   "id": "21566a38",
   "metadata": {},
   "outputs": [],
   "source": [
    "import numpy as np\n",
    "import pandas as pd"
   ]
  },
  {
   "cell_type": "code",
   "execution_count": 1,
   "id": "b765e4a2",
   "metadata": {},
   "outputs": [
    {
     "name": "stdout",
     "output_type": "stream",
     "text": [
      "99 Bottles of beer on the wall, 99 Bottles of beer. Take one down, pass it around, 98 Bottles of beer on the wall. 98 Bottles of beer on the wall, 98 Bottles of beer. Take one down, pass it around, 97 Bottles of beer on the wall.\n"
     ]
    }
   ],
   "source": [
    "print(\n",
    "  \"99 Bottles of beer on the wall, 99 Bottles of beer. Take one down, pass it around, 98 Bottles of beer on the wall. 98 Bottles of beer on the wall, 98 Bottles of beer. Take one down, pass it around, 97 Bottles of beer on the wall.\" #... etc etc etc\n",
    ")"
   ]
  },
  {
   "cell_type": "code",
   "execution_count": 3,
   "id": "2cdd5912",
   "metadata": {},
   "outputs": [
    {
     "name": "stdout",
     "output_type": "stream",
     "text": [
      "100 bottles of beer on the wall\n",
      "100 bottles of beer\n",
      " take one down, pass it around,\n",
      "99 bottles of beer on the wall\n",
      "99 bottles of beer on the wall\n",
      "99 bottles of beer\n",
      " take one down, pass it around,\n",
      "98 bottles of beer on the wall\n",
      "98 bottles of beer on the wall\n",
      "98 bottles of beer\n",
      " take one down, pass it around,\n",
      "97 bottles of beer on the wall\n",
      "97 bottles of beer on the wall\n",
      "97 bottles of beer\n",
      " take one down, pass it around,\n",
      "96 bottles of beer on the wall\n",
      "96 bottles of beer on the wall\n",
      "96 bottles of beer\n",
      " take one down, pass it around,\n",
      "95 bottles of beer on the wall\n",
      "95 bottles of beer on the wall\n",
      "95 bottles of beer\n",
      " take one down, pass it around,\n",
      "94 bottles of beer on the wall\n",
      "94 bottles of beer on the wall\n",
      "94 bottles of beer\n",
      " take one down, pass it around,\n",
      "93 bottles of beer on the wall\n",
      "93 bottles of beer on the wall\n",
      "93 bottles of beer\n",
      " take one down, pass it around,\n",
      "92 bottles of beer on the wall\n",
      "92 bottles of beer on the wall\n",
      "92 bottles of beer\n",
      " take one down, pass it around,\n",
      "91 bottles of beer on the wall\n",
      "91 bottles of beer on the wall\n",
      "91 bottles of beer\n",
      " take one down, pass it around,\n",
      "90 bottles of beer on the wall\n",
      "90 bottles of beer on the wall\n",
      "90 bottles of beer\n",
      " take one down, pass it around,\n",
      "89 bottles of beer on the wall\n",
      "89 bottles of beer on the wall\n",
      "89 bottles of beer\n",
      " take one down, pass it around,\n",
      "88 bottles of beer on the wall\n",
      "88 bottles of beer on the wall\n",
      "88 bottles of beer\n",
      " take one down, pass it around,\n",
      "87 bottles of beer on the wall\n",
      "87 bottles of beer on the wall\n",
      "87 bottles of beer\n",
      " take one down, pass it around,\n",
      "86 bottles of beer on the wall\n",
      "86 bottles of beer on the wall\n",
      "86 bottles of beer\n",
      " take one down, pass it around,\n",
      "85 bottles of beer on the wall\n",
      "85 bottles of beer on the wall\n",
      "85 bottles of beer\n",
      " take one down, pass it around,\n",
      "84 bottles of beer on the wall\n",
      "84 bottles of beer on the wall\n",
      "84 bottles of beer\n",
      " take one down, pass it around,\n",
      "83 bottles of beer on the wall\n",
      "83 bottles of beer on the wall\n",
      "83 bottles of beer\n",
      " take one down, pass it around,\n",
      "82 bottles of beer on the wall\n",
      "82 bottles of beer on the wall\n",
      "82 bottles of beer\n",
      " take one down, pass it around,\n",
      "81 bottles of beer on the wall\n",
      "81 bottles of beer on the wall\n",
      "81 bottles of beer\n",
      " take one down, pass it around,\n",
      "80 bottles of beer on the wall\n",
      "80 bottles of beer on the wall\n",
      "80 bottles of beer\n",
      " take one down, pass it around,\n",
      "79 bottles of beer on the wall\n",
      "79 bottles of beer on the wall\n",
      "79 bottles of beer\n",
      " take one down, pass it around,\n",
      "78 bottles of beer on the wall\n",
      "78 bottles of beer on the wall\n",
      "78 bottles of beer\n",
      " take one down, pass it around,\n",
      "77 bottles of beer on the wall\n",
      "77 bottles of beer on the wall\n",
      "77 bottles of beer\n",
      " take one down, pass it around,\n",
      "76 bottles of beer on the wall\n",
      "76 bottles of beer on the wall\n",
      "76 bottles of beer\n",
      " take one down, pass it around,\n",
      "75 bottles of beer on the wall\n",
      "75 bottles of beer on the wall\n",
      "75 bottles of beer\n",
      " take one down, pass it around,\n",
      "74 bottles of beer on the wall\n",
      "74 bottles of beer on the wall\n",
      "74 bottles of beer\n",
      " take one down, pass it around,\n",
      "73 bottles of beer on the wall\n",
      "73 bottles of beer on the wall\n",
      "73 bottles of beer\n",
      " take one down, pass it around,\n",
      "72 bottles of beer on the wall\n",
      "72 bottles of beer on the wall\n",
      "72 bottles of beer\n",
      " take one down, pass it around,\n",
      "71 bottles of beer on the wall\n",
      "71 bottles of beer on the wall\n",
      "71 bottles of beer\n",
      " take one down, pass it around,\n",
      "70 bottles of beer on the wall\n",
      "70 bottles of beer on the wall\n",
      "70 bottles of beer\n",
      " take one down, pass it around,\n",
      "69 bottles of beer on the wall\n",
      "69 bottles of beer on the wall\n",
      "69 bottles of beer\n",
      " take one down, pass it around,\n",
      "68 bottles of beer on the wall\n",
      "68 bottles of beer on the wall\n",
      "68 bottles of beer\n",
      " take one down, pass it around,\n",
      "67 bottles of beer on the wall\n",
      "67 bottles of beer on the wall\n",
      "67 bottles of beer\n",
      " take one down, pass it around,\n",
      "66 bottles of beer on the wall\n",
      "66 bottles of beer on the wall\n",
      "66 bottles of beer\n",
      " take one down, pass it around,\n",
      "65 bottles of beer on the wall\n",
      "65 bottles of beer on the wall\n",
      "65 bottles of beer\n",
      " take one down, pass it around,\n",
      "64 bottles of beer on the wall\n",
      "64 bottles of beer on the wall\n",
      "64 bottles of beer\n",
      " take one down, pass it around,\n",
      "63 bottles of beer on the wall\n",
      "63 bottles of beer on the wall\n",
      "63 bottles of beer\n",
      " take one down, pass it around,\n",
      "62 bottles of beer on the wall\n",
      "62 bottles of beer on the wall\n",
      "62 bottles of beer\n",
      " take one down, pass it around,\n",
      "61 bottles of beer on the wall\n",
      "61 bottles of beer on the wall\n",
      "61 bottles of beer\n",
      " take one down, pass it around,\n",
      "60 bottles of beer on the wall\n",
      "60 bottles of beer on the wall\n",
      "60 bottles of beer\n",
      " take one down, pass it around,\n",
      "59 bottles of beer on the wall\n",
      "59 bottles of beer on the wall\n",
      "59 bottles of beer\n",
      " take one down, pass it around,\n",
      "58 bottles of beer on the wall\n",
      "58 bottles of beer on the wall\n",
      "58 bottles of beer\n",
      " take one down, pass it around,\n",
      "57 bottles of beer on the wall\n",
      "57 bottles of beer on the wall\n",
      "57 bottles of beer\n",
      " take one down, pass it around,\n",
      "56 bottles of beer on the wall\n",
      "56 bottles of beer on the wall\n",
      "56 bottles of beer\n",
      " take one down, pass it around,\n",
      "55 bottles of beer on the wall\n",
      "55 bottles of beer on the wall\n",
      "55 bottles of beer\n",
      " take one down, pass it around,\n",
      "54 bottles of beer on the wall\n",
      "54 bottles of beer on the wall\n",
      "54 bottles of beer\n",
      " take one down, pass it around,\n",
      "53 bottles of beer on the wall\n",
      "53 bottles of beer on the wall\n",
      "53 bottles of beer\n",
      " take one down, pass it around,\n",
      "52 bottles of beer on the wall\n",
      "52 bottles of beer on the wall\n",
      "52 bottles of beer\n",
      " take one down, pass it around,\n",
      "51 bottles of beer on the wall\n",
      "51 bottles of beer on the wall\n",
      "51 bottles of beer\n",
      " take one down, pass it around,\n",
      "50 bottles of beer on the wall\n",
      "50 bottles of beer on the wall\n",
      "50 bottles of beer\n",
      " take one down, pass it around,\n",
      "49 bottles of beer on the wall\n",
      "49 bottles of beer on the wall\n",
      "49 bottles of beer\n",
      " take one down, pass it around,\n",
      "48 bottles of beer on the wall\n",
      "48 bottles of beer on the wall\n",
      "48 bottles of beer\n",
      " take one down, pass it around,\n",
      "47 bottles of beer on the wall\n",
      "47 bottles of beer on the wall\n",
      "47 bottles of beer\n",
      " take one down, pass it around,\n",
      "46 bottles of beer on the wall\n",
      "46 bottles of beer on the wall\n",
      "46 bottles of beer\n",
      " take one down, pass it around,\n",
      "45 bottles of beer on the wall\n",
      "45 bottles of beer on the wall\n",
      "45 bottles of beer\n",
      " take one down, pass it around,\n",
      "44 bottles of beer on the wall\n",
      "44 bottles of beer on the wall\n",
      "44 bottles of beer\n",
      " take one down, pass it around,\n",
      "43 bottles of beer on the wall\n",
      "43 bottles of beer on the wall\n",
      "43 bottles of beer\n",
      " take one down, pass it around,\n",
      "42 bottles of beer on the wall\n",
      "42 bottles of beer on the wall\n",
      "42 bottles of beer\n",
      " take one down, pass it around,\n",
      "41 bottles of beer on the wall\n",
      "41 bottles of beer on the wall\n",
      "41 bottles of beer\n",
      " take one down, pass it around,\n",
      "40 bottles of beer on the wall\n",
      "40 bottles of beer on the wall\n",
      "40 bottles of beer\n",
      " take one down, pass it around,\n",
      "39 bottles of beer on the wall\n",
      "39 bottles of beer on the wall\n",
      "39 bottles of beer\n",
      " take one down, pass it around,\n",
      "38 bottles of beer on the wall\n",
      "38 bottles of beer on the wall\n",
      "38 bottles of beer\n",
      " take one down, pass it around,\n",
      "37 bottles of beer on the wall\n",
      "37 bottles of beer on the wall\n",
      "37 bottles of beer\n",
      " take one down, pass it around,\n",
      "36 bottles of beer on the wall\n",
      "36 bottles of beer on the wall\n",
      "36 bottles of beer\n",
      " take one down, pass it around,\n",
      "35 bottles of beer on the wall\n",
      "35 bottles of beer on the wall\n",
      "35 bottles of beer\n",
      " take one down, pass it around,\n",
      "34 bottles of beer on the wall\n",
      "34 bottles of beer on the wall\n",
      "34 bottles of beer\n",
      " take one down, pass it around,\n",
      "33 bottles of beer on the wall\n",
      "33 bottles of beer on the wall\n",
      "33 bottles of beer\n",
      " take one down, pass it around,\n",
      "32 bottles of beer on the wall\n",
      "32 bottles of beer on the wall\n",
      "32 bottles of beer\n",
      " take one down, pass it around,\n",
      "31 bottles of beer on the wall\n",
      "31 bottles of beer on the wall\n",
      "31 bottles of beer\n",
      " take one down, pass it around,\n",
      "30 bottles of beer on the wall\n",
      "30 bottles of beer on the wall\n",
      "30 bottles of beer\n",
      " take one down, pass it around,\n",
      "29 bottles of beer on the wall\n",
      "29 bottles of beer on the wall\n",
      "29 bottles of beer\n",
      " take one down, pass it around,\n",
      "28 bottles of beer on the wall\n",
      "28 bottles of beer on the wall\n",
      "28 bottles of beer\n",
      " take one down, pass it around,\n",
      "27 bottles of beer on the wall\n",
      "27 bottles of beer on the wall\n",
      "27 bottles of beer\n",
      " take one down, pass it around,\n",
      "26 bottles of beer on the wall\n",
      "26 bottles of beer on the wall\n",
      "26 bottles of beer\n",
      " take one down, pass it around,\n",
      "25 bottles of beer on the wall\n",
      "25 bottles of beer on the wall\n",
      "25 bottles of beer\n",
      " take one down, pass it around,\n",
      "24 bottles of beer on the wall\n",
      "24 bottles of beer on the wall\n",
      "24 bottles of beer\n",
      " take one down, pass it around,\n",
      "23 bottles of beer on the wall\n",
      "23 bottles of beer on the wall\n",
      "23 bottles of beer\n",
      " take one down, pass it around,\n",
      "22 bottles of beer on the wall\n",
      "22 bottles of beer on the wall\n",
      "22 bottles of beer\n",
      " take one down, pass it around,\n",
      "21 bottles of beer on the wall\n",
      "21 bottles of beer on the wall\n",
      "21 bottles of beer\n",
      " take one down, pass it around,\n",
      "20 bottles of beer on the wall\n",
      "20 bottles of beer on the wall\n",
      "20 bottles of beer\n",
      " take one down, pass it around,\n",
      "19 bottles of beer on the wall\n",
      "19 bottles of beer on the wall\n",
      "19 bottles of beer\n",
      " take one down, pass it around,\n",
      "18 bottles of beer on the wall\n",
      "18 bottles of beer on the wall\n",
      "18 bottles of beer\n",
      " take one down, pass it around,\n",
      "17 bottles of beer on the wall\n",
      "17 bottles of beer on the wall\n",
      "17 bottles of beer\n",
      " take one down, pass it around,\n",
      "16 bottles of beer on the wall\n",
      "16 bottles of beer on the wall\n",
      "16 bottles of beer\n",
      " take one down, pass it around,\n",
      "15 bottles of beer on the wall\n",
      "15 bottles of beer on the wall\n",
      "15 bottles of beer\n",
      " take one down, pass it around,\n",
      "14 bottles of beer on the wall\n",
      "14 bottles of beer on the wall\n",
      "14 bottles of beer\n",
      " take one down, pass it around,\n",
      "13 bottles of beer on the wall\n",
      "13 bottles of beer on the wall\n",
      "13 bottles of beer\n",
      " take one down, pass it around,\n",
      "12 bottles of beer on the wall\n",
      "12 bottles of beer on the wall\n",
      "12 bottles of beer\n",
      " take one down, pass it around,\n",
      "11 bottles of beer on the wall\n",
      "11 bottles of beer on the wall\n",
      "11 bottles of beer\n",
      " take one down, pass it around,\n",
      "10 bottles of beer on the wall\n",
      "10 bottles of beer on the wall\n",
      "10 bottles of beer\n",
      " take one down, pass it around,\n",
      "9 bottles of beer on the wall\n",
      "9 bottles of beer on the wall\n",
      "9 bottles of beer\n",
      " take one down, pass it around,\n",
      "8 bottles of beer on the wall\n",
      "8 bottles of beer on the wall\n",
      "8 bottles of beer\n",
      " take one down, pass it around,\n",
      "7 bottles of beer on the wall\n",
      "7 bottles of beer on the wall\n",
      "7 bottles of beer\n",
      " take one down, pass it around,\n",
      "6 bottles of beer on the wall\n",
      "6 bottles of beer on the wall\n",
      "6 bottles of beer\n",
      " take one down, pass it around,\n",
      "5 bottles of beer on the wall\n",
      "5 bottles of beer on the wall\n",
      "5 bottles of beer\n",
      " take one down, pass it around,\n",
      "4 bottles of beer on the wall\n",
      "4 bottles of beer on the wall\n",
      "4 bottles of beer\n",
      " take one down, pass it around,\n",
      "3 bottles of beer on the wall\n"
     ]
    }
   ],
   "source": [
    "for i in range(100,3,-1):\n",
    "  print(str(i) + \" bottles of beer on the wall\")\n",
    "  print(str(i) + \" bottles of beer\")\n",
    "  print(\" take one down, pass it around,\")\n",
    "  print(str(i-1) + \" bottles of beer on the wall\")"
   ]
  },
  {
   "cell_type": "code",
   "execution_count": 5,
   "id": "75862e27",
   "metadata": {},
   "outputs": [],
   "source": [
    "def sing_verse(i):\n",
    "  \n",
    "    \"\"\"\n",
    "    Rescales a numeric vector to have a max of 1 and min of 0\n",
    "    \n",
    "    Parameter\n",
    "    ---------\n",
    "    verse : num\n",
    "        A number from 1 to 100 representing the number of beer on the wall.\n",
    "\n",
    "    Returns\n",
    "    -------\n",
    "    array \n",
    "        A song containing the values.\n",
    "    \"\"\"\n",
    "\n",
    "    print(str(i) + \" bottles of beer on the wall\")\n",
    "    print(str(i) + \" bottles of beer\")\n",
    "    print(\" take one down, pass it around,\")\n",
    "    print(str(i-1) + \" bottles of beer on the wall\")\n",
    "  \n",
    "    return sing_verse"
   ]
  },
  {
   "cell_type": "code",
   "execution_count": 6,
   "id": "62ca0256",
   "metadata": {},
   "outputs": [
    {
     "name": "stdout",
     "output_type": "stream",
     "text": [
      "13 bottles of beer on the wall\n",
      "13 bottles of beer\n",
      " take one down, pass it around,\n",
      "12 bottles of beer on the wall\n"
     ]
    },
    {
     "data": {
      "text/plain": [
       "<function __main__.sing_verse(i)>"
      ]
     },
     "execution_count": null,
     "metadata": {},
     "output_type": "execute_result"
    }
   ],
   "source": [
    "sing_verse(13)"
   ]
  },
  {
   "cell_type": "code",
   "execution_count": 15,
   "id": "0d27ae99",
   "metadata": {},
   "outputs": [],
   "source": [
    "#hers\n",
    "\n",
    "i = 100\n",
    "\n",
    "def sing_verse2(i):\n",
    "  song = str(i) + \" bottles of beer on the wall \\n\" + str(i) + \" bottles of beer \\n\" + \" take one down, pass it around, \\n\" + str(i-1) + \" bottles of beer on the wall \\n\"\n",
    "  \n",
    "  return song"
   ]
  },
  {
   "cell_type": "code",
   "execution_count": 17,
   "id": "14251ab9",
   "metadata": {},
   "outputs": [
    {
     "name": "stdout",
     "output_type": "stream",
     "text": [
      "100 bottles of beer on the wall \n",
      "100 bottles of beer \n",
      " take one down, pass it around, \n",
      "99 bottles of beer on the wall \n",
      "99 bottles of beer on the wall \n",
      "99 bottles of beer \n",
      " take one down, pass it around, \n",
      "98 bottles of beer on the wall \n",
      "98 bottles of beer on the wall \n",
      "98 bottles of beer \n",
      " take one down, pass it around, \n",
      "97 bottles of beer on the wall \n",
      "\n"
     ]
    }
   ],
   "source": [
    "song = \"\"\n",
    "\n",
    "for i in range(100,97,-1):\n",
    "  song = song + sing_verse2(i)\n",
    "  \n",
    "print(song)"
   ]
  },
  {
   "cell_type": "code",
   "execution_count": 41,
   "id": "682a69f1",
   "metadata": {},
   "outputs": [
    {
     "name": "stdout",
     "output_type": "stream",
     "text": [
      "['100 bottles of beer on the wall \\n100 bottles of beer \\n take one down, pass it around, \\n99 bottles of beer on the wall \\n', '99 bottles of beer on the wall \\n99 bottles of beer \\n take one down, pass it around, \\n98 bottles of beer on the wall \\n', '98 bottles of beer on the wall \\n98 bottles of beer \\n take one down, pass it around, \\n97 bottles of beer on the wall \\n']\n"
     ]
    }
   ],
   "source": [
    "song = []\n",
    "\n",
    "for i in range(100,97,-1):\n",
    "  new_verse = sing_verse2(i)\n",
    "  song.append(new_verse)\n",
    "  \n",
    "print(song)"
   ]
  },
  {
   "cell_type": "code",
   "execution_count": 20,
   "id": "a69230be",
   "metadata": {},
   "outputs": [
    {
     "data": {
      "text/plain": [
       "['100 bottles of beer on the wall \\n100 bottles of beer \\n take one down, pass it around, \\n99 bottles of beer on the wall \\n',\n",
       " '99 bottles of beer on the wall \\n99 bottles of beer \\n take one down, pass it around, \\n98 bottles of beer on the wall \\n',\n",
       " '98 bottles of beer on the wall \\n98 bottles of beer \\n take one down, pass it around, \\n97 bottles of beer on the wall \\n']"
      ]
     },
     "execution_count": null,
     "metadata": {},
     "output_type": "execute_result"
    }
   ],
   "source": [
    "song"
   ]
  },
  {
   "cell_type": "markdown",
   "id": "15cbbce8",
   "metadata": {},
   "source": [
    "7.2.1 Vectorized functions"
   ]
  },
  {
   "cell_type": "code",
   "execution_count": 22,
   "id": "78565324",
   "metadata": {},
   "outputs": [
    {
     "data": {
      "text/plain": [
       "array([1.        , 1.73205081, 2.23606798, 2.64575131])"
      ]
     },
     "execution_count": null,
     "metadata": {},
     "output_type": "execute_result"
    }
   ],
   "source": [
    "a_num = 5\n",
    "a_vec = [1,3,5,7]\n",
    "\n",
    "np.sqrt(a_num)\n",
    "np.sqrt(a_vec)\n"
   ]
  },
  {
   "cell_type": "code",
   "execution_count": 23,
   "id": "505b405f",
   "metadata": {},
   "outputs": [
    {
     "data": {
      "text/plain": [
       "[np.float64(1.0),\n",
       " np.float64(1.7320508075688772),\n",
       " np.float64(2.23606797749979),\n",
       " np.float64(2.6457513110645907)]"
      ]
     },
     "execution_count": null,
     "metadata": {},
     "output_type": "execute_result"
    }
   ],
   "source": [
    "result = []\n",
    "for i in a_vec:\n",
    "  result = result + [np.sqrt(i)]\n",
    "  \n",
    "result"
   ]
  },
  {
   "cell_type": "code",
   "execution_count": 29,
   "id": "09e9f27c",
   "metadata": {},
   "outputs": [
    {
     "name": "stdout",
     "output_type": "stream",
     "text": [
      "-2\n",
      "1.0\n",
      "-3\n",
      "-9\n",
      "2.6457513110645907\n"
     ]
    }
   ],
   "source": [
    "a_vec = np.array([-2, 1, -3, -9, 7])\n",
    "\n",
    "for val in a_vec:\n",
    "  if val > 0:\n",
    "    val = np.sqrt(val)\n",
    "  print(val)"
   ]
  },
  {
   "cell_type": "code",
   "execution_count": 25,
   "id": "da34939e",
   "metadata": {},
   "outputs": [
    {
     "data": {
      "text/plain": [
       "array([-2,  1, -3, -9,  2])"
      ]
     },
     "execution_count": null,
     "metadata": {},
     "output_type": "execute_result"
    }
   ],
   "source": [
    "is_pos = a_vec > 0\n",
    "\n",
    "a_vec[is_pos] = np.sqrt(a_vec[is_pos])\n",
    "\n",
    "a_vec"
   ]
  },
  {
   "cell_type": "code",
   "execution_count": 30,
   "id": "84cd2121",
   "metadata": {},
   "outputs": [],
   "source": [
    "a_vec = np.array([-2, 1, -3, -9, 7])"
   ]
  },
  {
   "cell_type": "code",
   "execution_count": 39,
   "id": "3f6cc919",
   "metadata": {},
   "outputs": [],
   "source": [
    "def sqrt_pos_unvec(val):\n",
    "    if val > 0:\n",
    "        val = np.sqrt(val)\n",
    "    return val"
   ]
  },
  {
   "cell_type": "code",
   "execution_count": 36,
   "id": "4a4d47d4",
   "metadata": {},
   "outputs": [],
   "source": [
    "def sqrt_pos_vec(vec_array):\n",
    "    is_pos = a_vec > 0\n",
    "    a_vec[is_pos] = np.sqrt(a_vec[is_pos])\n",
    "\n",
    "    return is_pos"
   ]
  },
  {
   "cell_type": "code",
   "execution_count": 37,
   "id": "eafd21ed",
   "metadata": {},
   "outputs": [
    {
     "data": {
      "text/plain": [
       "array([False,  True, False, False,  True])"
      ]
     },
     "execution_count": null,
     "metadata": {},
     "output_type": "execute_result"
    }
   ],
   "source": [
    "sqrt_pos_vec(100)"
   ]
  },
  {
   "cell_type": "code",
   "execution_count": 44,
   "id": "e17ee016",
   "metadata": {},
   "outputs": [
    {
     "name": "stdout",
     "output_type": "stream",
     "text": [
      "100 bottles of beer on the wall \n",
      "100 bottles of beer \n",
      " take one down, pass it around, \n",
      "99 bottles of beer on the wall \n",
      "99 bottles of beer on the wall \n",
      "99 bottles of beer \n",
      " take one down, pass it around, \n",
      "98 bottles of beer on the wall \n",
      "98 bottles of beer on the wall \n",
      "98 bottles of beer \n",
      " take one down, pass it around, \n",
      "97 bottles of beer on the wall \n",
      "\n"
     ]
    }
   ],
   "source": [
    "song = map(sing_verse2, range(100, 97, -1))\n",
    "song = list(song)\n",
    "print(\"\".join(song))"
   ]
  },
  {
   "cell_type": "code",
   "execution_count": 49,
   "id": "1f0746cf",
   "metadata": {},
   "outputs": [
    {
     "name": "stdout",
     "output_type": "stream",
     "text": [
      "100 bottles of beer on the wall \n",
      "100 bottles of beer\n",
      " take one down, pass it around, \n",
      "99 bottles of beer on the wall \n",
      "99 bottles of milk on the wall \n",
      "99 bottles of milk\n",
      " take one down, pass it around, \n",
      "98 bottles of milk on the wall \n",
      "98 bottles of lemonade on the wall \n",
      "98 bottles of lemonade\n",
      " take one down, pass it around, \n",
      "97 bottles of lemonade on the wall \n",
      "\n"
     ]
    }
   ],
   "source": [
    "nums = range(100, 97, -1)\n",
    "drinks = [\"beer\", \"milk\", \"lemonade\"]\n",
    "song = map(sing_verse_3, nums, drinks)\n",
    "print(\"\".join(list(song)))"
   ]
  },
  {
   "cell_type": "code",
   "execution_count": 48,
   "id": "29119129",
   "metadata": {},
   "outputs": [],
   "source": [
    "def sing_verse_3(num, drink):\n",
    "  song = str(num) + \" bottles of \" + drink + \" on the wall \\n\"\n",
    "  song = song + str(num) + \" bottles of \" + drink + \"\\n\" \n",
    "  song = song + \" take one down, pass it around, \\n\"\n",
    "  song = song + str(num-1) + \" bottles of \" + drink + \" on the wall \\n\"\n",
    "  \n",
    "  return song"
   ]
  },
  {
   "cell_type": "code",
   "execution_count": 65,
   "id": "e64399c8",
   "metadata": {},
   "outputs": [],
   "source": [
    "def sing_verse_4(num, containers, drink):\n",
    "  song = str(num) + \" \" + containers + \" of \" + drink + \" on the wall \\n\"\n",
    "  song = song + str(num) + \" \" + containers + \" of \" + drink + \"\\n\" \n",
    "  song = song + \" take one down, pass it around, \\n\"\n",
    "  song = song + str(num-1) + \" \" + containers + \" of \"+ drink + \" on the wall \\n\"\n",
    "  \n",
    "  return song"
   ]
  },
  {
   "cell_type": "code",
   "execution_count": 66,
   "id": "d3456e91",
   "metadata": {},
   "outputs": [
    {
     "name": "stdout",
     "output_type": "stream",
     "text": [
      "100 bottles of beer on the wall \n",
      "100 bottles of beer\n",
      " take one down, pass it around, \n",
      "99 bottles of beer on the wall \n",
      "99 cartons of milk on the wall \n",
      "99 cartons of milk\n",
      " take one down, pass it around, \n",
      "98 cartons of milk on the wall \n",
      "98 glasses of lemonade on the wall \n",
      "98 glasses of lemonade\n",
      " take one down, pass it around, \n",
      "97 glasses of lemonade on the wall \n",
      "\n"
     ]
    }
   ],
   "source": [
    "nums = range(100, 97, -1)\n",
    "containers = [\"bottles\", \"cartons\", \"glasses\"]\n",
    "drinks = [\"beer\", \"milk\", \"lemonade\"]\n",
    "song = map(sing_verse_4, nums, containers, drinks)\n",
    "print(\"\".join(list(song)))"
   ]
  },
  {
   "cell_type": "markdown",
   "id": "b04d1f25",
   "metadata": {},
   "source": [
    "Lambda here"
   ]
  },
  {
   "cell_type": "markdown",
   "id": "233fb2c6",
   "metadata": {},
   "source": [
    "Iterating on datasets"
   ]
  },
  {
   "cell_type": "code",
   "execution_count": 70,
   "id": "21cab2e0",
   "metadata": {},
   "outputs": [
    {
     "data": {
      "text/html": [
       "<div>\n",
       "<style scoped>\n",
       "    .dataframe tbody tr th:only-of-type {\n",
       "        vertical-align: middle;\n",
       "    }\n",
       "\n",
       "    .dataframe tbody tr th {\n",
       "        vertical-align: top;\n",
       "    }\n",
       "\n",
       "    .dataframe thead th {\n",
       "        text-align: right;\n",
       "    }\n",
       "</style>\n",
       "<table border=\"1\" class=\"dataframe\">\n",
       "  <thead>\n",
       "    <tr style=\"text-align: right;\">\n",
       "      <th></th>\n",
       "      <th>x</th>\n",
       "      <th>y</th>\n",
       "    </tr>\n",
       "  </thead>\n",
       "  <tbody>\n",
       "    <tr>\n",
       "      <th>0</th>\n",
       "      <td>9.949874</td>\n",
       "      <td>1.000000</td>\n",
       "    </tr>\n",
       "    <tr>\n",
       "      <th>1</th>\n",
       "      <td>7.071068</td>\n",
       "      <td>1.414214</td>\n",
       "    </tr>\n",
       "    <tr>\n",
       "      <th>2</th>\n",
       "      <td>1.414214</td>\n",
       "      <td>1.732051</td>\n",
       "    </tr>\n",
       "  </tbody>\n",
       "</table>\n",
       "</div>"
      ],
      "text/plain": [
       "          x         y\n",
       "0  9.949874  1.000000\n",
       "1  7.071068  1.414214\n",
       "2  1.414214  1.732051"
      ]
     },
     "execution_count": null,
     "metadata": {},
     "output_type": "execute_result"
    }
   ],
   "source": [
    "dat = pd.DataFrame({\"x\": [99, 50, 2], \"y\": [1, 2, 3]})\n",
    "\n",
    "dat.apply(np.sqrt)"
   ]
  },
  {
   "cell_type": "code",
   "execution_count": 71,
   "id": "1df95fff",
   "metadata": {},
   "outputs": [
    {
     "data": {
      "text/plain": [
       "0    100\n",
       "1     52\n",
       "2      5\n",
       "dtype: int64"
      ]
     },
     "execution_count": null,
     "metadata": {},
     "output_type": "execute_result"
    }
   ],
   "source": [
    "dat.apply(np.sum, axis=1)"
   ]
  },
  {
   "cell_type": "code",
   "execution_count": 72,
   "id": "a2ea5e73",
   "metadata": {},
   "outputs": [
    {
     "data": {
      "text/html": [
       "<div>\n",
       "<style scoped>\n",
       "    .dataframe tbody tr th:only-of-type {\n",
       "        vertical-align: middle;\n",
       "    }\n",
       "\n",
       "    .dataframe tbody tr th {\n",
       "        vertical-align: top;\n",
       "    }\n",
       "\n",
       "    .dataframe thead th {\n",
       "        text-align: right;\n",
       "    }\n",
       "</style>\n",
       "<table border=\"1\" class=\"dataframe\">\n",
       "  <thead>\n",
       "    <tr style=\"text-align: right;\">\n",
       "      <th></th>\n",
       "      <th>num</th>\n",
       "      <th>drink</th>\n",
       "      <th>container</th>\n",
       "    </tr>\n",
       "  </thead>\n",
       "  <tbody>\n",
       "    <tr>\n",
       "      <th>0</th>\n",
       "      <td>99</td>\n",
       "      <td>beer</td>\n",
       "      <td>bottles</td>\n",
       "    </tr>\n",
       "    <tr>\n",
       "      <th>1</th>\n",
       "      <td>50</td>\n",
       "      <td>soda</td>\n",
       "      <td>cans</td>\n",
       "    </tr>\n",
       "    <tr>\n",
       "      <th>2</th>\n",
       "      <td>2</td>\n",
       "      <td>Capri Sun</td>\n",
       "      <td>pouches</td>\n",
       "    </tr>\n",
       "  </tbody>\n",
       "</table>\n",
       "</div>"
      ],
      "text/plain": [
       "   num      drink container\n",
       "0   99       beer   bottles\n",
       "1   50       soda      cans\n",
       "2    2  Capri Sun   pouches"
      ]
     },
     "execution_count": null,
     "metadata": {},
     "output_type": "execute_result"
    }
   ],
   "source": [
    "dat = pd.DataFrame({\"num\": [99, 50, 2], \"drink\": [\"beer\", \"soda\", \"Capri Sun\"], \"container\": [\"bottles\", \"cans\", \"pouches\"]})\n",
    "\n",
    "dat"
   ]
  },
  {
   "cell_type": "code",
   "execution_count": 77,
   "id": "827d0496",
   "metadata": {},
   "outputs": [
    {
     "data": {
      "text/plain": [
       "0    99 beer of bottles on the wall \\n99 beer of bo...\n",
       "1    50 soda of cans on the wall \\n50 soda of cans\\...\n",
       "2    2 Capri Sun of pouches on the wall \\n2 Capri S...\n",
       "dtype: object"
      ]
     },
     "execution_count": null,
     "metadata": {},
     "output_type": "execute_result"
    }
   ],
   "source": [
    "dat.apply(lambda x: sing_verse_4(x['num'], x['drink'], x['container']), axis=1)"
   ]
  }
 ],
 "metadata": {
  "language_info": {
   "name": "python"
  }
 },
 "nbformat": 4,
 "nbformat_minor": 5
}
