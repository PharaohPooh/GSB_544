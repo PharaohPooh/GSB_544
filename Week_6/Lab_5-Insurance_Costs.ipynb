{
 "cells": [
  {
   "cell_type": "markdown",
   "id": "72fa2358",
   "metadata": {},
   "source": [
    "---\n",
    "format: \n",
    "  html:\n",
    "    embed-resources: true\n",
    "execute:\n",
    "  echo: true\n",
    "code-fold: true\n",
    "author: James Compagno\n",
    "jupyter: python3\n",
    "---"
   ]
  },
  {
   "cell_type": "markdown",
   "id": "d4e1d8ec",
   "metadata": {},
   "source": [
    "https://kbodwin.github.io/GSB-544-private/Lab5.html"
   ]
  },
  {
   "cell_type": "markdown",
   "id": "541d2aa2",
   "metadata": {},
   "source": [
    "https://canvas.calpoly.edu/courses/166331/assignments/1322243"
   ]
  },
  {
   "cell_type": "markdown",
   "id": "82a84d5c",
   "metadata": {},
   "source": [
    "https://docs.google.com/forms/d/e/1FAIpQLSfrYTAy387JAkHrb-nL8pHBXunzyKKr3shhXrL9rXwM8bsX1Q/viewform"
   ]
  }
 ],
 "metadata": {
  "language_info": {
   "name": "python"
  }
 },
 "nbformat": 4,
 "nbformat_minor": 5
}
