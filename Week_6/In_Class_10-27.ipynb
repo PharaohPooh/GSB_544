{
 "cells": [
  {
   "cell_type": "code",
   "execution_count": 1,
   "id": "a998dddf",
   "metadata": {},
   "outputs": [],
   "source": [
    "import pandas as pd\n",
    "from sklearn.pipeline import Pipeline\n",
    "from sklearn.linear_model import LinearRegression\n",
    "from sklearn.metrics import r2_score"
   ]
  }
 ],
 "metadata": {
  "language_info": {
   "name": "python"
  }
 },
 "nbformat": 4,
 "nbformat_minor": 5
}
