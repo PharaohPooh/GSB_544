{
 "cells": [
  {
   "cell_type": "code",
   "execution_count": 22,
   "id": "c076c21f",
   "metadata": {},
   "outputs": [],
   "source": [
    "import pandas as pd\n",
    "import numpy as np\n",
    "import re"
   ]
  },
  {
   "cell_type": "code",
   "execution_count": 2,
   "id": "8e62f275",
   "metadata": {},
   "outputs": [
    {
     "data": {
      "text/plain": [
       "'Moses supposes his toeses are roses,, but Moses supposes erroneously.'"
      ]
     },
     "execution_count": null,
     "metadata": {},
     "output_type": "execute_result"
    }
   ],
   "source": [
    "string_1 = \"Moses supposes his toeses are roses,\"\n",
    "string_2 = \"Moses supposes erroneously.\"\n",
    "\n",
    "string_1 + \", but \" + string_2"
   ]
  },
  {
   "cell_type": "code",
   "execution_count": 4,
   "id": "9a299d40",
   "metadata": {},
   "outputs": [
    {
     "data": {
      "text/plain": [
       "'erroneously'"
      ]
     },
     "execution_count": null,
     "metadata": {},
     "output_type": "execute_result"
    }
   ],
   "source": [
    "string_1[0:5]\n",
    "string_1[5:]\n",
    "string_2[-12:-1]"
   ]
  },
  {
   "cell_type": "code",
   "execution_count": null,
   "id": "20681d9b",
   "metadata": {},
   "outputs": [
    {
     "data": {
      "text/plain": [
       "5"
      ]
     },
     "execution_count": null,
     "metadata": {},
     "output_type": "execute_result"
    }
   ],
   "source": [
    "me = \"Kelly\"\n",
    "me_list = [\"Kelly\"]\n",
    "\n",
    "len(me) #length of kelly\n",
    "len(me_list) #length of the list\n",
    "len(me_list[0]) #length of the first entry in the list"
   ]
  },
  {
   "cell_type": "code",
   "execution_count": 6,
   "id": "a33e3c4c",
   "metadata": {},
   "outputs": [],
   "source": [
    "def sing_verse_3(num, drink, container):\n",
    "  song = str(num) + \" \" + container +\" of \" + drink + \" on the wall \\n\"\n",
    "  song = song + str(num) + \" \"+ container +\" of \" + drink + \"\\n\" \n",
    "  song = song + \" take one down, pass it around, \\n\"\n",
    "  song = song + str(num-1) + container + \" of \" + drink + \" on the wall \\n\"\n",
    "  \n",
    "  return song"
   ]
  },
  {
   "cell_type": "code",
   "execution_count": 8,
   "id": "c5a5261d",
   "metadata": {},
   "outputs": [
    {
     "data": {
      "text/plain": [
       "'78 cans of beer on the wall \\n78 cans of beer\\n take one down, pass it around, \\n77cans of beer on the wall \\n'"
      ]
     },
     "execution_count": null,
     "metadata": {},
     "output_type": "execute_result"
    }
   ],
   "source": [
    "sing_verse_3(78, \"beer\", \"cans\")"
   ]
  },
  {
   "cell_type": "code",
   "execution_count": 11,
   "id": "023d2fd1",
   "metadata": {},
   "outputs": [],
   "source": [
    "def sing_verse_4(num, drink, container):\n",
    "  song = \"{num} {container} of {drink} on the wall. {num} {container} of {drink}. Take one down pass it around. {num_small} {container} of {drink} on the wall.\"\n",
    "  song = song.format(num=str(num), drink=drink, container=container, num_small=str(num-1))\n",
    "  \n",
    "  return song"
   ]
  },
  {
   "cell_type": "code",
   "execution_count": 12,
   "id": "bef5adcf",
   "metadata": {},
   "outputs": [
    {
     "data": {
      "text/plain": [
       "'78 cans of beer on the wall. 78 cans of beer. Take one down pass it around. 77 cans of beer on the wall.'"
      ]
     },
     "execution_count": null,
     "metadata": {},
     "output_type": "execute_result"
    }
   ],
   "source": [
    "sing_verse_4(78, \"beer\", \"cans\")"
   ]
  },
  {
   "cell_type": "code",
   "execution_count": 13,
   "id": "e2472d9b",
   "metadata": {},
   "outputs": [
    {
     "data": {
      "text/plain": [
       "['One fish', 'two fish', 'red fish', 'blue fish.']"
      ]
     },
     "execution_count": null,
     "metadata": {},
     "output_type": "execute_result"
    }
   ],
   "source": [
    "fish_string = \"One fish, two fish, red fish, blue fish.\"\n",
    "fish_list = fish_string.split(\", \")\n",
    "fish_list"
   ]
  },
  {
   "cell_type": "code",
   "execution_count": 14,
   "id": "4428e2b9",
   "metadata": {},
   "outputs": [
    {
     "data": {
      "text/plain": [
       "['One moose', 'two moose', 'red moose', 'blue moose.']"
      ]
     },
     "execution_count": null,
     "metadata": {},
     "output_type": "execute_result"
    }
   ],
   "source": [
    "new_list = list(map(lambda x: x.replace(\"fish\", \"moose\"), fish_list))\n",
    "\n",
    "new_list"
   ]
  },
  {
   "cell_type": "code",
   "execution_count": null,
   "id": "9e6137bd",
   "metadata": {},
   "outputs": [
    {
     "data": {
      "text/plain": [
       "'One moose and two moose and red moose and blue moose.'"
      ]
     },
     "execution_count": null,
     "metadata": {},
     "output_type": "execute_result"
    }
   ],
   "source": [
    "\" and \".join(new_list)"
   ]
  },
  {
   "cell_type": "code",
   "execution_count": 17,
   "id": "128b8530",
   "metadata": {},
   "outputs": [
    {
     "data": {
      "text/plain": [
       "'One moose, two moose, red moose, blue moose.'"
      ]
     },
     "execution_count": null,
     "metadata": {},
     "output_type": "execute_result"
    }
   ],
   "source": [
    "\", \".join(new_list)"
   ]
  },
  {
   "cell_type": "code",
   "execution_count": 18,
   "id": "cf46db84",
   "metadata": {},
   "outputs": [],
   "source": [
    "moses_string = \"Moses supposes his toeses are roses, but Moses supposes erroneously.  Moses he knowses his toeses aren't roses, as Moses supposes his toeses to be.\""
   ]
  },
  {
   "cell_type": "code",
   "execution_count": null,
   "id": "7e29f0f8",
   "metadata": {},
   "outputs": [
    {
     "data": {
      "text/plain": [
       "['Moses', 'roses', 'Moses', 'Moses', 'roses', 'Moses']"
      ]
     },
     "execution_count": null,
     "metadata": {},
     "output_type": "execute_result"
    }
   ],
   "source": [
    "import re\n",
    "re.findall(r\"[Mr]oses\", moses_string)\n",
    "#r means \"here comes a regular expression\" + I am looking for an \"M\" or \"r\"\n",
    "#and it returns o, s, e, s in that order \n",
    "#It would find roses out of Moroses "
   ]
  },
  {
   "cell_type": "code",
   "execution_count": 23,
   "id": "e7701931",
   "metadata": {},
   "outputs": [
    {
     "data": {
      "text/plain": [
       "['Moses',\n",
       " 'poses',\n",
       " 'roses',\n",
       " 'Moses',\n",
       " 'poses',\n",
       " 'Moses',\n",
       " 'roses',\n",
       " 'Moses',\n",
       " 'poses']"
      ]
     },
     "execution_count": null,
     "metadata": {},
     "output_type": "execute_result"
    }
   ],
   "source": [
    "re.findall(r\"\\woses\", moses_string)\n",
    "# \\w find me words thats some letter and then -oses"
   ]
  },
  {
   "cell_type": "code",
   "execution_count": 27,
   "id": "eb4c3399",
   "metadata": {},
   "outputs": [
    {
     "data": {
      "text/plain": [
       "['Moses',\n",
       " 'poses',\n",
       " 'roses',\n",
       " 'Moses',\n",
       " 'poses',\n",
       " 'Moses',\n",
       " 'roses',\n",
       " 'Moses',\n",
       " 'poses']"
      ]
     },
     "execution_count": null,
     "metadata": {},
     "output_type": "execute_result"
    }
   ],
   "source": [
    "re.findall(r\".oses\", moses_string)"
   ]
  },
  {
   "cell_type": "code",
   "execution_count": 32,
   "id": "762b9681",
   "metadata": {},
   "outputs": [],
   "source": [
    "nursery_rhyme = \"Peter Piper picked a peck of pickled peppers, A peck of pickled peppers Peter Piper picked; If Peter Piper picked a peck of pickled peppers, Where’s the peck of pickled peppers Peter Piper picked?\""
   ]
  },
  {
   "cell_type": "code",
   "execution_count": 44,
   "id": "5a71a456",
   "metadata": {},
   "outputs": [],
   "source": [
    "#splits out boundries seperately (space is a boundry) but doesnt get rid of them\n",
    "p_list = re.split(r\"\\b\", nursery_rhyme)\n"
   ]
  },
  {
   "cell_type": "code",
   "execution_count": 47,
   "id": "9b48d8a7",
   "metadata": {},
   "outputs": [
    {
     "data": {
      "text/plain": [
       "[[],\n",
       " ['P'],\n",
       " [],\n",
       " ['P'],\n",
       " [],\n",
       " ['p'],\n",
       " [],\n",
       " [],\n",
       " [],\n",
       " ['p'],\n",
       " [],\n",
       " [],\n",
       " [],\n",
       " ['p'],\n",
       " [],\n",
       " ['p'],\n",
       " [],\n",
       " [],\n",
       " [],\n",
       " ['p'],\n",
       " [],\n",
       " [],\n",
       " [],\n",
       " ['p'],\n",
       " [],\n",
       " ['p'],\n",
       " [],\n",
       " ['P'],\n",
       " [],\n",
       " ['P'],\n",
       " [],\n",
       " ['p'],\n",
       " [],\n",
       " [],\n",
       " [],\n",
       " ['P'],\n",
       " [],\n",
       " ['P'],\n",
       " [],\n",
       " ['p'],\n",
       " [],\n",
       " [],\n",
       " [],\n",
       " ['p'],\n",
       " [],\n",
       " [],\n",
       " [],\n",
       " ['p'],\n",
       " [],\n",
       " ['p'],\n",
       " [],\n",
       " [],\n",
       " [],\n",
       " [],\n",
       " [],\n",
       " [],\n",
       " [],\n",
       " ['p'],\n",
       " [],\n",
       " [],\n",
       " [],\n",
       " ['p'],\n",
       " [],\n",
       " ['p'],\n",
       " [],\n",
       " ['P'],\n",
       " [],\n",
       " ['P'],\n",
       " [],\n",
       " ['p'],\n",
       " []]"
      ]
     },
     "execution_count": null,
     "metadata": {},
     "output_type": "execute_result"
    }
   ],
   "source": [
    "list(map(lambda x: re.findall(r\"^[pP]\", x), p_list))"
   ]
  },
  {
   "cell_type": "code",
   "execution_count": 50,
   "id": "14e65e26",
   "metadata": {},
   "outputs": [
    {
     "data": {
      "text/plain": [
       "['Pete',\n",
       " 'Pipe',\n",
       " 'pick',\n",
       " 'peck',\n",
       " 'pick',\n",
       " 'pepp',\n",
       " 'peck',\n",
       " 'pick',\n",
       " 'pepp',\n",
       " 'Pete',\n",
       " 'Pipe',\n",
       " 'pick',\n",
       " 'Pete',\n",
       " 'Pipe',\n",
       " 'pick',\n",
       " 'peck',\n",
       " 'pick',\n",
       " 'pepp',\n",
       " 'peck',\n",
       " 'pick',\n",
       " 'pepp',\n",
       " 'Pete',\n",
       " 'Pipe',\n",
       " 'pick']"
      ]
     },
     "execution_count": null,
     "metadata": {},
     "output_type": "execute_result"
    }
   ],
   "source": [
    "re.findall(r\"\\b[pP]...\", nursery_rhyme)"
   ]
  },
  {
   "cell_type": "code",
   "execution_count": 51,
   "id": "c673f9c9",
   "metadata": {},
   "outputs": [
    {
     "data": {
      "text/plain": [
       "['Kely', 'Kelly', 'Kellly', 'Kelllly']"
      ]
     },
     "execution_count": null,
     "metadata": {},
     "output_type": "execute_result"
    }
   ],
   "source": [
    "names = \"Key, Kely, Kelly, Kellly, Kelllly\"\n",
    "re.findall(r\"Kel+y\", names)"
   ]
  },
  {
   "cell_type": "code",
   "execution_count": 53,
   "id": "2b2dcfea",
   "metadata": {},
   "outputs": [
    {
     "data": {
      "text/plain": [
       "['Kelly', 'Kellly']"
      ]
     },
     "execution_count": null,
     "metadata": {},
     "output_type": "execute_result"
    }
   ],
   "source": [
    "re.findall(r\"Kel*y\", names)#looking for the thing before the * at any count\n",
    "re.findall(r\"Kel?y\", names) #the thing before ? gives 0 or 1\n",
    "re.findall(r\"Kel{2}y\", names) #specifies the number you are looking for\n",
    "re.findall(r\"Kel{2,3}y\", names)"
   ]
  }
 ],
 "metadata": {
  "language_info": {
   "name": "python"
  }
 },
 "nbformat": 4,
 "nbformat_minor": 5
}
